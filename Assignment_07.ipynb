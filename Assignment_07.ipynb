{
 "cells": [
  {
   "cell_type": "markdown",
   "metadata": {},
   "source": [
    "<h1 align='center' style=\"background-color:RGB(255, 228, 145);\">Python Basic Assignment 7</h1>"
   ]
  },
  {
   "cell_type": "markdown",
   "metadata": {},
   "source": [
    "### 1. What is the name of the feature responsible for generating Regex objects?"
   ]
  },
  {
   "cell_type": "raw",
   "metadata": {},
   "source": [
    "re module is used for generation of Regex objects."
   ]
  },
  {
   "cell_type": "code",
   "execution_count": null,
   "metadata": {},
   "outputs": [],
   "source": [
    "import re\n",
    "\n",
    "str1 = \"Emma's luck numbers are 251 761 231 451 77667\"\n",
    "\n",
    "result = re.compile(r\"\\d+\").findall(str1)\n",
    "print(result)"
   ]
  },
  {
   "cell_type": "markdown",
   "metadata": {},
   "source": [
    "### 2. Why do raw strings often appear in Regex objects?"
   ]
  },
  {
   "cell_type": "raw",
   "metadata": {},
   "source": [
    " Raw strings are used so that backslashes do not have to be escaped."
   ]
  },
  {
   "cell_type": "code",
   "execution_count": 1,
   "metadata": {},
   "outputs": [
    {
     "name": "stdout",
     "output_type": "stream",
     "text": [
      "\\\n"
     ]
    }
   ],
   "source": [
    "print(\"\\\\\")"
   ]
  },
  {
   "cell_type": "code",
   "execution_count": 2,
   "metadata": {},
   "outputs": [
    {
     "name": "stdout",
     "output_type": "stream",
     "text": [
      "\\\\\n"
     ]
    }
   ],
   "source": [
    "print(r\"\\\\\")"
   ]
  },
  {
   "cell_type": "markdown",
   "metadata": {},
   "source": [
    "### 3. What is the return value of the search() method?"
   ]
  },
  {
   "cell_type": "raw",
   "metadata": {},
   "source": [
    "re.search() method either returns None (if the pattern doesn’t match), or a re.MatchObject that contains information about the matching part of the string. This method stops after the first match, so this is best suited for testing a regular expression more than extracting data."
   ]
  },
  {
   "cell_type": "code",
   "execution_count": 18,
   "metadata": {},
   "outputs": [
    {
     "name": "stdout",
     "output_type": "stream",
     "text": [
      "Arpan\n"
     ]
    }
   ],
   "source": [
    "import re\n",
    "result = re.search(r'Arpan', 'My name is Arpan')\n",
    "print(result.group())"
   ]
  },
  {
   "cell_type": "markdown",
   "metadata": {},
   "source": [
    "### 4. From a Match item, how do you get the actual strings that match the pattern?"
   ]
  },
  {
   "cell_type": "raw",
   "metadata": {},
   "source": [
    "group() method returns matched pattern"
   ]
  },
  {
   "cell_type": "code",
   "execution_count": 6,
   "metadata": {},
   "outputs": [
    {
     "name": "stdout",
     "output_type": "stream",
     "text": [
      "956-451-4242\n"
     ]
    }
   ],
   "source": [
    "import re\n",
    "phoneNumRegex = re.compile(r'\\d+-\\d+-\\d+')\n",
    "mo = phoneNumRegex.search('My phone number is 956-451-4242.')\n",
    "print(mo.group())"
   ]
  },
  {
   "cell_type": "markdown",
   "metadata": {},
   "source": [
    "### 5. In the regex which created from the r&#39;(\\d\\d\\d)-(\\d\\d\\d-\\d\\d\\d\\d)&#39;, what does group zero cover? Group 2? Group 1?\n"
   ]
  },
  {
   "cell_type": "raw",
   "metadata": {},
   "source": [
    "Group 0 is the entire match, group 1 covers the first set of parentheses and group 2 covers the second set of parentheses."
   ]
  },
  {
   "cell_type": "code",
   "execution_count": 5,
   "metadata": {},
   "outputs": [
    {
     "name": "stdout",
     "output_type": "stream",
     "text": [
      "956-451-4243\n",
      "451-4243\n",
      "956\n"
     ]
    }
   ],
   "source": [
    "import re\n",
    "phoneNumRegex = re.compile(r'(\\d\\d\\d)-(\\d\\d\\d-\\d\\d\\d\\d)')\n",
    "mo = phoneNumRegex.search('956-451-4243')\n",
    "print(mo.group(0))\n",
    "print(mo.group(2))\n",
    "print(mo.group(1))"
   ]
  },
  {
   "cell_type": "markdown",
   "metadata": {},
   "source": [
    "### 6. In standard expression syntax, parentheses and intervals have distinct meanings. How can you tell a regex that you want it to fit real parentheses and periods?"
   ]
  },
  {
   "cell_type": "raw",
   "metadata": {},
   "source": [
    "Periods and parentheses can be escaped with a backslash: \\., \\( and \\)."
   ]
  },
  {
   "cell_type": "markdown",
   "metadata": {},
   "source": [
    "### 7. The findall() method returns a string list or a list of string tuples. What causes it to return one of the two options?"
   ]
  },
  {
   "cell_type": "raw",
   "metadata": {},
   "source": [
    "If the regex has no groups, a list of strings is returned. If the regex has groups, a list of tuples of strings is returned."
   ]
  },
  {
   "cell_type": "code",
   "execution_count": 1,
   "metadata": {},
   "outputs": [
    {
     "name": "stdout",
     "output_type": "stream",
     "text": [
      "[('pythonic', 'ic'), ('python', '')]\n",
      "<class 'tuple'>\t<class 'tuple'>\t"
     ]
    }
   ],
   "source": [
    "import re\n",
    "k = re.findall(\"(python(ic)?)\", \"pythonic python program\")\n",
    "print(k)\n",
    "for i in k:\n",
    "    print(type(i), end='\\t')"
   ]
  },
  {
   "cell_type": "code",
   "execution_count": 2,
   "metadata": {},
   "outputs": [
    {
     "name": "stdout",
     "output_type": "stream",
     "text": [
      "['B', 'a', 'n', 'g', 'a', 'l', 'o', 'r', 'e', 'I', 'n', 'd', 'i', 'a']\n",
      "<class 'str'>\t<class 'str'>\t<class 'str'>\t<class 'str'>\t<class 'str'>\t<class 'str'>\t<class 'str'>\t<class 'str'>\t<class 'str'>\t<class 'str'>\t<class 'str'>\t<class 'str'>\t<class 'str'>\t<class 'str'>\t"
     ]
    }
   ],
   "source": [
    "import re\n",
    "a=\"Bangalore, India\"\n",
    "l=re.findall(\"[\\w][\\n]*\",a)\n",
    "print(l)\n",
    "for i in l:\n",
    "    print(type(i), end='\\t')"
   ]
  },
  {
   "cell_type": "markdown",
   "metadata": {},
   "source": [
    "### 8. In standard expressions, what does the | character mean?"
   ]
  },
  {
   "cell_type": "raw",
   "metadata": {},
   "source": [
    "in standard expression \" | \" means  Alternation / OR operand."
   ]
  },
  {
   "cell_type": "code",
   "execution_count": 3,
   "metadata": {
    "scrolled": true
   },
   "outputs": [
    {
     "name": "stdout",
     "output_type": "stream",
     "text": [
      "|| False \t|| False \t|| False \t|| False\n",
      "|| False \t|| False \t|| False \t|| True\n",
      "|| True \t|| True \t|| True \t|| True\n",
      "|| False \t|| False \t|| False \t|| True\n",
      "|| True \t|| True \t|| True \t|| True\n",
      "|| True \t|| True \t|| True \t|| True\n",
      "|| False \t|| False \t|| False \t|| False\n",
      "|| False \t|| False \t|| False \t|| True\n",
      "|| True \t|| True \t|| True \t|| True\n",
      "|| False \t|| False \t|| False \t|| True\n",
      "|| True \t|| True \t|| True \t|| True\n",
      "|| True \t|| True \t|| True \t|| True\n",
      "|| False \t|| False \t|| False \t|| False\n",
      "|| False \t|| False \t|| False \t|| True\n",
      "|| True \t|| True \t|| True \t|| True\n",
      "|| False \t|| False \t|| False \t|| True\n",
      "|| True \t|| True \t|| True \t|| True\n",
      "|| True \t|| True \t|| True \t|| True\n",
      "|| False \t|| False \t|| False \t|| False\n",
      "|| False \t|| False \t|| False \t|| True\n"
     ]
    }
   ],
   "source": [
    "for i in range(0,20):\n",
    "    print('||',(i%2!=0 | i%3!=0),'\\t||',((i%2!=i%3) & (i%3!=False)),'\\t||',(i%2!=i%3!=0),'\\t||',(i%2!=0 or i%3!=0))"
   ]
  },
  {
   "cell_type": "markdown",
   "metadata": {},
   "source": [
    "### 9. In regular expressions, what does the character stand for?"
   ]
  },
  {
   "cell_type": "raw",
   "metadata": {},
   "source": [
    "character can either mean \"match zero or one of the preceding group\" or be used to signify nongreedy matching"
   ]
  },
  {
   "cell_type": "markdown",
   "metadata": {},
   "source": [
    "### 10. In regular expressions, what is the difference between the + and * characters?"
   ]
  },
  {
   "cell_type": "raw",
   "metadata": {},
   "source": [
    "Like it says, * matches zero or more, + matches one or more. But we only tested them on a case where there is more than one space, which means they both apply."
   ]
  },
  {
   "cell_type": "markdown",
   "metadata": {},
   "source": [
    "### 11. What is the difference between {4} and {4,5} in regular expression?"
   ]
  },
  {
   "cell_type": "raw",
   "metadata": {},
   "source": [
    "The {4} matches exactly four instances of the preceding group. The {4,5} matches between four and five instances"
   ]
  },
  {
   "cell_type": "code",
   "execution_count": 14,
   "metadata": {},
   "outputs": [
    {
     "name": "stdout",
     "output_type": "stream",
     "text": [
      "56-451-987\n"
     ]
    }
   ],
   "source": [
    "import re\n",
    "phoneNumRegex = re.compile(r'(\\d{2}-\\d{1,}-\\d{2,9})')\n",
    "mo = phoneNumRegex.search('956-451-987')\n",
    "print(mo.group())"
   ]
  },
  {
   "cell_type": "markdown",
   "metadata": {},
   "source": [
    "### 12. What do you mean by the \\d, \\w, and \\s shorthand character classes signify in regular expressions?"
   ]
  },
  {
   "cell_type": "raw",
   "metadata": {},
   "source": [
    "\\d Matches digits, which means 0-9.\n",
    "\\w Matches alphanumeric characters, which means a-z, A-Z, 0-9 and _ (underscore) .\n",
    "\\s Matches whitespace characters, which include the space, newline, return, tab, form [\\n\\r\\t\\f]"
   ]
  },
  {
   "cell_type": "markdown",
   "metadata": {},
   "source": [
    "### 13. What do means by \\D, \\W, and \\S shorthand character classes signify in regular expressions?"
   ]
  },
  {
   "cell_type": "raw",
   "metadata": {},
   "source": [
    "\\D Matches any non-digits. \n",
    "\\W Matches any non-word character.\n",
    "\\S Matches non-whitespace characters."
   ]
  },
  {
   "cell_type": "markdown",
   "metadata": {},
   "source": [
    "### 14. What is the difference between .* ? and .* ?"
   ]
  },
  {
   "cell_type": "raw",
   "metadata": {},
   "source": [
    ".*? adds ?, a quantifier that matches the preceding element (the \".*\" here) 0 or 1 times.\n",
    ".* adds *, a quantifier that matches the preceding element (the \".\" here) 0 or more times."
   ]
  },
  {
   "cell_type": "code",
   "execution_count": 29,
   "metadata": {},
   "outputs": [
    {
     "name": "stdout",
     "output_type": "stream",
     "text": [
      "A\n",
      "AD 956-451-98765432.\n"
     ]
    }
   ],
   "source": [
    "import re\n",
    "mo1 = re.compile(r'(\\w.*?)').search('AD 956-451-98765432.')\n",
    "mo2 = re.compile(r'(\\w.*)').search('AD 956-451-98765432.')\n",
    "print(mo1.group())\n",
    "print(mo2.group())"
   ]
  },
  {
   "cell_type": "markdown",
   "metadata": {},
   "source": [
    "### 15. What is the syntax for matching both numbers and lowercase letters with a character class?"
   ]
  },
  {
   "cell_type": "code",
   "execution_count": 16,
   "metadata": {},
   "outputs": [],
   "source": [
    "import re\n",
    "def match(text):\n",
    "    patterns = '^[a-z0-9]*$'\n",
    "    if re.search(patterns,text):\n",
    "        return \"matched\"\n",
    "    else:\n",
    "        return\"not matched\""
   ]
  },
  {
   "cell_type": "code",
   "execution_count": 17,
   "metadata": {},
   "outputs": [
    {
     "name": "stdout",
     "output_type": "stream",
     "text": [
      "matched\n"
     ]
    }
   ],
   "source": [
    "print(match(\"arpanmaity47\"))"
   ]
  },
  {
   "cell_type": "markdown",
   "metadata": {},
   "source": [
    "### 16. What is the procedure for making a normal expression in regax case insensitive?"
   ]
  },
  {
   "cell_type": "raw",
   "metadata": {},
   "source": [
    "re.IGNORECASE to search, match or sub"
   ]
  },
  {
   "cell_type": "code",
   "execution_count": 8,
   "metadata": {},
   "outputs": [
    {
     "name": "stdout",
     "output_type": "stream",
     "text": [
      "I am learning Java\n",
      "Arpan\n",
      "TEST\n"
     ]
    }
   ],
   "source": [
    "import re\n",
    "print(re.sub('python', 'Java', 'I am learning python', flags=re.IGNORECASE))\n",
    "print(re.match('Arpan', 'Arpan Maity Arpan', flags=re.IGNORECASE).group())\n",
    "print(re.search('TeSt', 'TEST', flags=re.IGNORECASE).group())"
   ]
  },
  {
   "cell_type": "markdown",
   "metadata": {},
   "source": [
    "### 17. What does the . character normally match? What does it match if re.DOTALL is passed as 2nd argument in re.compile()?"
   ]
  },
  {
   "cell_type": "raw",
   "metadata": {},
   "source": [
    "dot (.) character matches everything in input except newline character\n",
    "By passing re. DOTALL as the second argument to re. compile() , you can make the dot character match all characters,       including the newline character."
   ]
  },
  {
   "cell_type": "code",
   "execution_count": 2,
   "metadata": {},
   "outputs": [
    {
     "name": "stdout",
     "output_type": "stream",
     "text": [
      "['Ma']\n",
      "['Mr', 'Ma']\n"
     ]
    }
   ],
   "source": [
    "import re\n",
    "k0 = re.findall('M.', 'M\\n Arpan Maity')\n",
    "k1 = re.findall('M.', 'Mr. Arpan Maity')\n",
    "print(k0)\n",
    "print(k1)"
   ]
  },
  {
   "cell_type": "code",
   "execution_count": 3,
   "metadata": {},
   "outputs": [
    {
     "data": {
      "text/plain": [
       "['956', '451', '4242']"
      ]
     },
     "execution_count": 3,
     "metadata": {},
     "output_type": "execute_result"
    }
   ],
   "source": [
    "import re\n",
    "re.findall(re.compile(r'\\d+'),'My phone number is 956-451-4242.')"
   ]
  },
  {
   "cell_type": "markdown",
   "metadata": {},
   "source": [
    "### 18. If numReg = re.compile(r&#39;\\d+&#39;), what will numRegex.sub(&#39;X&#39;, &#39;11 drummers, 10 pipers, five rings, 4 hen&#39;) return?"
   ]
  },
  {
   "cell_type": "raw",
   "metadata": {},
   "source": [
    "'X drummers, X pipers, five rings, X hen'"
   ]
  },
  {
   "cell_type": "code",
   "execution_count": 1,
   "metadata": {},
   "outputs": [
    {
     "data": {
      "text/plain": [
       "'X drummers, X pipers, five rings, X hen'"
      ]
     },
     "execution_count": 1,
     "metadata": {},
     "output_type": "execute_result"
    }
   ],
   "source": [
    "import re\n",
    "numRegex = re.compile(r'\\d+')\n",
    "numRegex.sub('X', '11 drummers, 10 pipers, five rings, 4 hen')"
   ]
  },
  {
   "cell_type": "markdown",
   "metadata": {},
   "source": [
    "### 19. What does passing re.VERBOSE as the 2nd argument to re.compile() allow to do?"
   ]
  },
  {
   "cell_type": "raw",
   "metadata": {},
   "source": [
    "re.VERBOSE allows you to write regular expressions that look nicer and are more readable by allowing you to visually separate logical sections of the pattern and add comments.\n",
    "\n",
    "It’s passed as an argument to re.compile() i.e re.compile(Regular Expression, re.VERBOSE). re.compile() returns a RegexObject which is then matched with the given string."
   ]
  },
  {
   "cell_type": "code",
   "execution_count": 155,
   "metadata": {},
   "outputs": [],
   "source": [
    "def check_mail(email):\n",
    "    try:\n",
    "        regex_email=re.compile(r\"\"\"\n",
    "                               ^([a-z0-9_\\.-]+)                 # local Part\n",
    "                               @                             # single @ sign\n",
    "                                ([0-9a-z\\.-]+)                 # Domain name\n",
    "                               \\.                             # single Dot .\n",
    "                                ([a-z]{2,6})$                 # Top level Domain     \n",
    "                               \"\"\",re.VERBOSE)\n",
    "        res=regex_email.fullmatch(email)\n",
    "        if (res.group()==email):\n",
    "            return \"A Valid Email Address\"\n",
    "    except:\n",
    "        return \"Not a Valid Email Address\""
   ]
  },
  {
   "cell_type": "code",
   "execution_count": 156,
   "metadata": {},
   "outputs": [
    {
     "data": {
      "text/plain": [
       "'A Valid Email Address'"
      ]
     },
     "execution_count": 156,
     "metadata": {},
     "output_type": "execute_result"
    }
   ],
   "source": [
    "check_mail(\"python.org@gmail.com\")"
   ]
  },
  {
   "cell_type": "code",
   "execution_count": 157,
   "metadata": {},
   "outputs": [
    {
     "data": {
      "text/plain": [
       "'Not a Valid Email Address'"
      ]
     },
     "execution_count": 157,
     "metadata": {},
     "output_type": "execute_result"
    }
   ],
   "source": [
    "check_mail(\"Crucio@k.com.\")"
   ]
  },
  {
   "cell_type": "markdown",
   "metadata": {},
   "source": [
    "### 20. How would you write a regex that match a number with comma for every three digits? It must match the given following:\n",
    "#### '42'\n",
    "#### '1,234'\n",
    "#### '6,368,745'\n",
    "#### but not the following:\n",
    "#### &#39;12,34,567&#39; (which has only two digits between the commas)\n",
    "#### &#39;1234&#39; (which lacks commas)   \n",
    "    \n",
    "    \n",
    "    "
   ]
  },
  {
   "cell_type": "raw",
   "metadata": {},
   "source": [
    "re.compile(r'^\\d{1,3}(,\\d{3})*$')"
   ]
  },
  {
   "cell_type": "code",
   "execution_count": 218,
   "metadata": {},
   "outputs": [],
   "source": [
    "def chk_reg(strn):\n",
    "    try:\n",
    "        if(re.search(re.compile(r'^\\d{1,3}(,\\d{3})*$'),strn).group()==strn):\n",
    "            return \"Matched\"\n",
    "    except:\n",
    "        return \"Not Matched\""
   ]
  },
  {
   "cell_type": "code",
   "execution_count": 219,
   "metadata": {},
   "outputs": [
    {
     "data": {
      "text/plain": [
       "'Matched'"
      ]
     },
     "execution_count": 219,
     "metadata": {},
     "output_type": "execute_result"
    }
   ],
   "source": [
    "chk_reg('42')"
   ]
  },
  {
   "cell_type": "code",
   "execution_count": 220,
   "metadata": {},
   "outputs": [
    {
     "data": {
      "text/plain": [
       "'Matched'"
      ]
     },
     "execution_count": 220,
     "metadata": {},
     "output_type": "execute_result"
    }
   ],
   "source": [
    "chk_reg('1,234')"
   ]
  },
  {
   "cell_type": "code",
   "execution_count": 221,
   "metadata": {},
   "outputs": [
    {
     "data": {
      "text/plain": [
       "'Matched'"
      ]
     },
     "execution_count": 221,
     "metadata": {},
     "output_type": "execute_result"
    }
   ],
   "source": [
    "chk_reg('6,368,745')"
   ]
  },
  {
   "cell_type": "code",
   "execution_count": 222,
   "metadata": {},
   "outputs": [
    {
     "data": {
      "text/plain": [
       "'Not Matched'"
      ]
     },
     "execution_count": 222,
     "metadata": {},
     "output_type": "execute_result"
    }
   ],
   "source": [
    "chk_reg('12,34,567')"
   ]
  },
  {
   "cell_type": "code",
   "execution_count": 223,
   "metadata": {},
   "outputs": [
    {
     "data": {
      "text/plain": [
       "'Not Matched'"
      ]
     },
     "execution_count": 223,
     "metadata": {},
     "output_type": "execute_result"
    }
   ],
   "source": [
    "chk_reg('1234')"
   ]
  },
  {
   "cell_type": "markdown",
   "metadata": {},
   "source": [
    "### 21. How would you write a regex that matches the full name of someone whose last name is Watanabe? You can assume that the first name that comes before it will always be one word that begins with a capital letter. The regex must match the following:\n",
    "#### &#39;Haruto Watanabe&#39;\n",
    "#### &#39;Alice Watanabe&#39;\n",
    "#### &#39;RoboCop Watanabe&#39;\n",
    "#### but not the following:\n",
    "#### &#39;haruto Watanabe&#39; (where the first name is not capitalized)\n",
    "#### &#39;Mr. Watanabe&#39; (where the preceding word has a nonletter character)\n",
    "#### &#39;Watanabe&#39; (which has no first name)\n",
    "#### &#39;Haruto watanabe&#39; (where Watanabe is not capitalized)"
   ]
  },
  {
   "cell_type": "raw",
   "metadata": {},
   "source": [
    "re.compile(r'([A-Z][a-z]+)*\\sWatanabe')"
   ]
  },
  {
   "cell_type": "code",
   "execution_count": 224,
   "metadata": {},
   "outputs": [],
   "source": [
    "def chk_rg(strn):\n",
    "    try:\n",
    "        if(re.search(re.compile(r'([A-Z][a-z]+)*\\sWatanabe'),strn).group()==strn):\n",
    "            return \"Matched\"\n",
    "        else:\n",
    "            return \"Not Matched\"\n",
    "    except:\n",
    "        return \"Not Matched\""
   ]
  },
  {
   "cell_type": "code",
   "execution_count": 225,
   "metadata": {},
   "outputs": [
    {
     "data": {
      "text/plain": [
       "'Matched'"
      ]
     },
     "execution_count": 225,
     "metadata": {},
     "output_type": "execute_result"
    }
   ],
   "source": [
    "chk_rg('Haruto Watanabe')"
   ]
  },
  {
   "cell_type": "code",
   "execution_count": 226,
   "metadata": {},
   "outputs": [
    {
     "data": {
      "text/plain": [
       "'Matched'"
      ]
     },
     "execution_count": 226,
     "metadata": {},
     "output_type": "execute_result"
    }
   ],
   "source": [
    "chk_rg('Alice Watanabe')"
   ]
  },
  {
   "cell_type": "code",
   "execution_count": 227,
   "metadata": {
    "scrolled": true
   },
   "outputs": [
    {
     "data": {
      "text/plain": [
       "'Matched'"
      ]
     },
     "execution_count": 227,
     "metadata": {},
     "output_type": "execute_result"
    }
   ],
   "source": [
    "chk_rg('RoboCop Watanabe')"
   ]
  },
  {
   "cell_type": "code",
   "execution_count": 213,
   "metadata": {},
   "outputs": [
    {
     "data": {
      "text/plain": [
       "'Not Matched'"
      ]
     },
     "execution_count": 213,
     "metadata": {},
     "output_type": "execute_result"
    }
   ],
   "source": [
    "chk_rg('haruto Watanabe')"
   ]
  },
  {
   "cell_type": "code",
   "execution_count": 210,
   "metadata": {},
   "outputs": [
    {
     "data": {
      "text/plain": [
       "'Not Matched'"
      ]
     },
     "execution_count": 210,
     "metadata": {},
     "output_type": "execute_result"
    }
   ],
   "source": [
    "chk_rg('Mr. Watanabe')"
   ]
  },
  {
   "cell_type": "code",
   "execution_count": 211,
   "metadata": {},
   "outputs": [
    {
     "data": {
      "text/plain": [
       "'Not Matched'"
      ]
     },
     "execution_count": 211,
     "metadata": {},
     "output_type": "execute_result"
    }
   ],
   "source": [
    "chk_rg('Watanabe')"
   ]
  },
  {
   "cell_type": "code",
   "execution_count": 212,
   "metadata": {
    "scrolled": true
   },
   "outputs": [
    {
     "data": {
      "text/plain": [
       "'Not Matched'"
      ]
     },
     "execution_count": 212,
     "metadata": {},
     "output_type": "execute_result"
    }
   ],
   "source": [
    "chk_rg('Haruto watanabe')"
   ]
  },
  {
   "cell_type": "markdown",
   "metadata": {},
   "source": [
    "### 22. How would you write a regex that matches a sentence where the first word is either Alice, Bob,or Carol; the second word is either eats, pets, or throws; the third word is apples, cats, or baseballs; and the sentence ends with a period? This regex should be case-insensitive. It must match the following:\n",
    "#### &#39;Alice eats apples.&#39;\n",
    "#### &#39;Bob pets cats.&#39;\n",
    "#### &#39;Carol throws baseballs.&#39;\n",
    "#### &#39;Alice throws Apples.&#39;\n",
    "#### &#39;BOB EATS CATS.&#39;\n",
    "#### but not the following:\n",
    "#### &#39;RoboCop eats apples.&#39;\n",
    "#### &#39;ALICE THROWS FOOTBALLS.&#39;\n",
    "#### &#39;Carol eats 7 cats.&#39;"
   ]
  },
  {
   "cell_type": "raw",
   "metadata": {},
   "source": [
    "re.compile(r'(Alice|Bob|Carol)\\s(eats|pets|throws)\\s(apples|cats|baseballs)\\.', re.IGNORECASE)"
   ]
  },
  {
   "cell_type": "code",
   "execution_count": 238,
   "metadata": {},
   "outputs": [],
   "source": [
    "def chk_rgx(strn):\n",
    "    try:\n",
    "        if(re.search(re.compile(r'(Alice|Bob|Carol)\\s(eats|pets|throws)\\s(apples|cats|baseballs)\\.', re.IGNORECASE),strn).group()==strn):\n",
    "            return \"Matched\"\n",
    "        else:\n",
    "            return \"Not Matched\"\n",
    "    except:\n",
    "        return \"Not Matched\""
   ]
  },
  {
   "cell_type": "code",
   "execution_count": 249,
   "metadata": {},
   "outputs": [
    {
     "data": {
      "text/plain": [
       "'Matched'"
      ]
     },
     "execution_count": 249,
     "metadata": {},
     "output_type": "execute_result"
    }
   ],
   "source": [
    "chk_rgx('Alice eats apples.')"
   ]
  },
  {
   "cell_type": "code",
   "execution_count": 240,
   "metadata": {},
   "outputs": [
    {
     "data": {
      "text/plain": [
       "'Matched'"
      ]
     },
     "execution_count": 240,
     "metadata": {},
     "output_type": "execute_result"
    }
   ],
   "source": [
    "chk_rgx('Bob pets cats.')"
   ]
  },
  {
   "cell_type": "code",
   "execution_count": 241,
   "metadata": {},
   "outputs": [
    {
     "data": {
      "text/plain": [
       "'Matched'"
      ]
     },
     "execution_count": 241,
     "metadata": {},
     "output_type": "execute_result"
    }
   ],
   "source": [
    "chk_rgx('Carol throws baseballs.')"
   ]
  },
  {
   "cell_type": "code",
   "execution_count": 242,
   "metadata": {},
   "outputs": [
    {
     "data": {
      "text/plain": [
       "'Matched'"
      ]
     },
     "execution_count": 242,
     "metadata": {},
     "output_type": "execute_result"
    }
   ],
   "source": [
    "chk_rgx('Alice throws Apples.')"
   ]
  },
  {
   "cell_type": "code",
   "execution_count": 243,
   "metadata": {},
   "outputs": [
    {
     "data": {
      "text/plain": [
       "'Matched'"
      ]
     },
     "execution_count": 243,
     "metadata": {},
     "output_type": "execute_result"
    }
   ],
   "source": [
    "chk_rgx('BOB EATS CATS.')"
   ]
  },
  {
   "cell_type": "code",
   "execution_count": 244,
   "metadata": {},
   "outputs": [
    {
     "data": {
      "text/plain": [
       "'Not Matched'"
      ]
     },
     "execution_count": 244,
     "metadata": {},
     "output_type": "execute_result"
    }
   ],
   "source": [
    "chk_rgx('RoboCop eats apples.')"
   ]
  },
  {
   "cell_type": "code",
   "execution_count": 245,
   "metadata": {},
   "outputs": [
    {
     "data": {
      "text/plain": [
       "'Not Matched'"
      ]
     },
     "execution_count": 245,
     "metadata": {},
     "output_type": "execute_result"
    }
   ],
   "source": [
    "chk_rgx('ALICE THROWS FOOTBALLS.')"
   ]
  },
  {
   "cell_type": "code",
   "execution_count": 246,
   "metadata": {},
   "outputs": [
    {
     "data": {
      "text/plain": [
       "'Not Matched'"
      ]
     },
     "execution_count": 246,
     "metadata": {},
     "output_type": "execute_result"
    }
   ],
   "source": [
    "chk_rgx('Carol eats 7 cats.')"
   ]
  }
 ],
 "metadata": {
  "kernelspec": {
   "display_name": "Python 3 (ipykernel)",
   "language": "python",
   "name": "python3"
  },
  "language_info": {
   "codemirror_mode": {
    "name": "ipython",
    "version": 3
   },
   "file_extension": ".py",
   "mimetype": "text/x-python",
   "name": "python",
   "nbconvert_exporter": "python",
   "pygments_lexer": "ipython3",
   "version": "3.9.7"
  }
 },
 "nbformat": 4,
 "nbformat_minor": 4
}
