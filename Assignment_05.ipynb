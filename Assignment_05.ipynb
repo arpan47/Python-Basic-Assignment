{
 "cells": [
  {
   "cell_type": "markdown",
   "id": "cb01f52a",
   "metadata": {},
   "source": [
    "<h1 align='center' style=\"background-color:RGB(255, 228, 145);\">Python Basic Assignment 5</h1>"
   ]
  },
  {
   "cell_type": "markdown",
   "id": "d597c83a",
   "metadata": {},
   "source": [
    "### 1. What does an empty dictionary&#39;s code look like?"
   ]
  },
  {
   "cell_type": "code",
   "execution_count": 2,
   "id": "73eccbdb",
   "metadata": {},
   "outputs": [
    {
     "name": "stdout",
     "output_type": "stream",
     "text": [
      "{}\n"
     ]
    }
   ],
   "source": [
    "d = {}\n",
    "print(d)"
   ]
  },
  {
   "cell_type": "markdown",
   "id": "7215ebf5",
   "metadata": {},
   "source": [
    "### 2. What is the value of a dictionary value with the key &#39;foo&#39; and the value 42?"
   ]
  },
  {
   "cell_type": "code",
   "execution_count": 1,
   "id": "a0445380",
   "metadata": {},
   "outputs": [
    {
     "name": "stdout",
     "output_type": "stream",
     "text": [
      "{'foo': 42}\n"
     ]
    }
   ],
   "source": [
    "d = { 'foo' : 42 }\n",
    "print(d)"
   ]
  },
  {
   "cell_type": "code",
   "execution_count": 3,
   "id": "0faf10ae",
   "metadata": {},
   "outputs": [
    {
     "data": {
      "text/plain": [
       "dict_keys(['foo'])"
      ]
     },
     "execution_count": 3,
     "metadata": {},
     "output_type": "execute_result"
    }
   ],
   "source": [
    "d.keys()"
   ]
  },
  {
   "cell_type": "code",
   "execution_count": 2,
   "id": "42a10dc5",
   "metadata": {},
   "outputs": [
    {
     "data": {
      "text/plain": [
       "dict_values([42])"
      ]
     },
     "execution_count": 2,
     "metadata": {},
     "output_type": "execute_result"
    }
   ],
   "source": [
    "d.values()"
   ]
  },
  {
   "cell_type": "markdown",
   "id": "7e732293",
   "metadata": {},
   "source": [
    "### 3. What is the most significant distinction between a dictionary and a list?"
   ]
  },
  {
   "cell_type": "raw",
   "id": "8c56f45c",
   "metadata": {},
   "source": [
    "A list is an ordered sequence of objects, whereas dictionaries are unordered sets. However, the main difference is that items in dictionaries are accessed via keys and not via their position. Any key of the dictionary is associated (or mapped) to a value."
   ]
  },
  {
   "cell_type": "markdown",
   "id": "ad7c1fb2",
   "metadata": {},
   "source": [
    "### 4. What happens if you try to access spam[&#39;foo&#39;] if spam is {&#39;bar&#39;: 100}?"
   ]
  },
  {
   "cell_type": "code",
   "execution_count": 8,
   "id": "cde11045",
   "metadata": {},
   "outputs": [
    {
     "ename": "KeyError",
     "evalue": "'foo'",
     "output_type": "error",
     "traceback": [
      "\u001b[1;31m---------------------------------------------------------------------------\u001b[0m",
      "\u001b[1;31mKeyError\u001b[0m                                  Traceback (most recent call last)",
      "\u001b[1;32m<ipython-input-8-0a5e91516b4a>\u001b[0m in \u001b[0;36m<module>\u001b[1;34m\u001b[0m\n\u001b[0;32m      1\u001b[0m \u001b[0mspam\u001b[0m \u001b[1;33m=\u001b[0m \u001b[1;33m{\u001b[0m\u001b[1;34m'bar'\u001b[0m\u001b[1;33m:\u001b[0m \u001b[1;36m100\u001b[0m\u001b[1;33m}\u001b[0m\u001b[1;33m\u001b[0m\u001b[1;33m\u001b[0m\u001b[0m\n\u001b[1;32m----> 2\u001b[1;33m \u001b[0mspam\u001b[0m\u001b[1;33m[\u001b[0m\u001b[1;34m'foo'\u001b[0m\u001b[1;33m]\u001b[0m  \u001b[1;31m#KeyError\u001b[0m\u001b[1;33m\u001b[0m\u001b[1;33m\u001b[0m\u001b[0m\n\u001b[0m",
      "\u001b[1;31mKeyError\u001b[0m: 'foo'"
     ]
    }
   ],
   "source": [
    "spam = {'bar': 100}\n",
    "spam['foo']  #KeyError"
   ]
  },
  {
   "cell_type": "markdown",
   "id": "3d6818b6",
   "metadata": {},
   "source": [
    "### 5. If a dictionary is stored in spam, what is the difference between the expressions &#39;cat&#39; in spam and &#39;cat&#39; in spam.keys()?"
   ]
  },
  {
   "cell_type": "code",
   "execution_count": 13,
   "id": "aa2168b4",
   "metadata": {},
   "outputs": [
    {
     "name": "stdout",
     "output_type": "stream",
     "text": [
      "True\n",
      "True\n"
     ]
    }
   ],
   "source": [
    "spam = {'cat' : 11}\n",
    "k0 = 'cat' in spam\n",
    "print(k0)\n",
    "k1 = 'cat' in spam.keys()\n",
    "print(k1)"
   ]
  },
  {
   "cell_type": "raw",
   "id": "40a29215",
   "metadata": {},
   "source": [
    "There is no difference. The 'in' operator check whether a value exists as a key in the dictionary"
   ]
  },
  {
   "cell_type": "markdown",
   "id": "db74166e",
   "metadata": {},
   "source": [
    "### 6. If a dictionary is stored in spam, what is the difference between the expressions &#39;cat&#39; in spam and &#39;cat&#39; in spam.values()?"
   ]
  },
  {
   "cell_type": "code",
   "execution_count": 18,
   "id": "605cc003",
   "metadata": {},
   "outputs": [
    {
     "name": "stdout",
     "output_type": "stream",
     "text": [
      "True\n",
      "False\n"
     ]
    }
   ],
   "source": [
    "spam = {'cat' : 11}\n",
    "k2 = 'cat' in spam\n",
    "print(k2)\n",
    "k3 = 'cat' in spam.values()\n",
    "print(k3)"
   ]
  },
  {
   "cell_type": "raw",
   "id": "36a31923",
   "metadata": {},
   "source": [
    "The 'cat' in spam checks whether there is a 'cat' key in the dictionary, while 'cat' in spam.values() checks whether there is a value 'cat' for one of the keys in 'spam'."
   ]
  },
  {
   "cell_type": "raw",
   "id": "89037c48",
   "metadata": {},
   "source": [
    "it checks weather 'cat' is present in dictionary as a key."
   ]
  },
  {
   "cell_type": "markdown",
   "id": "8fceb051",
   "metadata": {},
   "source": [
    "### 7. What is a shortcut for the following code?\n",
    "###    if &#39;color&#39; not in spam:\n",
    "###    spam[&#39;color&#39;] = &#39;black&#39;"
   ]
  },
  {
   "cell_type": "code",
   "execution_count": 20,
   "id": "74983b8f",
   "metadata": {},
   "outputs": [
    {
     "name": "stdout",
     "output_type": "stream",
     "text": [
      "{'cat': 11, 'color': 'black'}\n"
     ]
    }
   ],
   "source": [
    "#spam.setdefault('color', 'black')\n",
    "spam['color'] = 'black'\n",
    "print(spam)"
   ]
  },
  {
   "cell_type": "markdown",
   "id": "edd6fdb0",
   "metadata": {},
   "source": [
    "### 8. How do you &quot;pretty print&quot; dictionary values using which module and function?"
   ]
  },
  {
   "cell_type": "raw",
   "id": "77a04285",
   "metadata": {},
   "source": [
    "module name is \"pprint\" and function name is \"pprint.pprint()\""
   ]
  },
  {
   "cell_type": "code",
   "execution_count": 25,
   "id": "213f3514",
   "metadata": {},
   "outputs": [
    {
     "name": "stdout",
     "output_type": "stream",
     "text": [
      "[{'Age': '23', 'Country': 'USA', 'Name': 'John'},\n",
      " {'Age': '44', 'Country': 'Spain', 'Name': 'Jose'},\n",
      " {'Age': '29', 'Country': 'UK', 'Name': 'Anne'},\n",
      " {'Age': '35', 'Country': 'Japan', 'Name': 'Lee'}]\n"
     ]
    }
   ],
   "source": [
    "import pprint\n",
    "\n",
    "dct_arr = [\n",
    "  {'Name': 'John', 'Age': '23', 'Country': 'USA'},\n",
    "  {'Name': 'Jose', 'Age': '44', 'Country': 'Spain'},\n",
    "  {'Name': 'Anne', 'Age': '29', 'Country': 'UK'},\n",
    "  {'Name': 'Lee', 'Age': '35', 'Country': 'Japan'}\n",
    "]\n",
    "\n",
    "pprint.pprint(dct_arr)"
   ]
  },
  {
   "cell_type": "code",
   "execution_count": null,
   "id": "44a56f1a",
   "metadata": {},
   "outputs": [],
   "source": []
  }
 ],
 "metadata": {
  "kernelspec": {
   "display_name": "Python 3 (ipykernel)",
   "language": "python",
   "name": "python3"
  },
  "language_info": {
   "codemirror_mode": {
    "name": "ipython",
    "version": 3
   },
   "file_extension": ".py",
   "mimetype": "text/x-python",
   "name": "python",
   "nbconvert_exporter": "python",
   "pygments_lexer": "ipython3",
   "version": "3.9.7"
  }
 },
 "nbformat": 4,
 "nbformat_minor": 5
}
