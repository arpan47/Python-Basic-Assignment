{
 "cells": [
  {
   "cell_type": "markdown",
   "id": "fcd97839",
   "metadata": {},
   "source": [
    "<h1 align='center' style=\"background-color:RGB(255, 228, 145);\">Python Basic Assignment 13</h1>"
   ]
  },
  {
   "cell_type": "markdown",
   "id": "7bffe837",
   "metadata": {},
   "source": [
    "### 1. What advantages do Excel spreadsheets have over CSV spreadsheets?"
   ]
  },
  {
   "cell_type": "raw",
   "id": "75aece6f",
   "metadata": {},
   "source": [
    "Excel is a binary file that holds information about all the worksheets in a workbook while CSV stands for Comma Separated Values. It is a plain text format with a series of values separated by commas.\n",
    "\n",
    "The major differences are:\n",
    " Excel has types for their values.\n",
    " Excel has settings for font size or color.\n",
    " Excel has multiple worksheets.\n",
    " Can specify cell widths and heights.\n",
    " Can have merged cells.\n",
    " Can have images or charts embedded in them."
   ]
  },
  {
   "cell_type": "markdown",
   "id": "e5b641e0",
   "metadata": {},
   "source": [
    "### 2.What do you pass to csv.reader() and csv.writer() to create reader and writer objects?"
   ]
  },
  {
   "cell_type": "raw",
   "id": "bde7941d",
   "metadata": {},
   "source": [
    "In csv.reader() we pass file and dialect.\n",
    "In csv.writer() we pass fileobj and dialect."
   ]
  },
  {
   "cell_type": "code",
   "execution_count": 4,
   "id": "505cd70c",
   "metadata": {},
   "outputs": [
    {
     "name": "stdout",
     "output_type": "stream",
     "text": [
      "['ENAME', 'DNAME', 'JOB', 'EMPNO', 'HIREDATE', 'LOC'] \r\n",
      "['ADAMS', 'RESEARCH', 'CLERK', '7876', '23-May-87', 'DALLAS'] \r\n",
      "['ALLEN', 'SALES', 'SALESMAN', '7499', '20-Feb-81', 'CHICAGO'] \r\n",
      "['BLAKE', 'SALES', 'MANAGER', '7698', '01-May-81', 'CHICAGO'] \r\n",
      "['CLARK', 'ACCOUNTING', 'MANAGER', '7782', '09-Jun-81', 'NEW YORK'] \r\n",
      "['FORD', 'RESEARCH', 'ANALYST', '7902', '03-Dec-81', 'DALLAS'] \r\n",
      "['JAMES', 'SALES', 'CLERK', '7900', '03-Dec-81', 'CHICAGO'] \r\n",
      "['JONES', 'RESEARCH', 'MANAGER', '7566', '02-Apr-81', 'DALLAS'] \r\n",
      "['KING', 'ACCOUNTING', 'PRESIDENT', '7839', '17-Nov-81', 'NEW YORK'] \r\n",
      "['MARTIN', 'SALES', 'SALESMAN', '7654', '28-Sep-81', 'CHICAGO'] \r\n",
      "['MILLER', 'ACCOUNTING', 'CLERK', '7934', '23-Jan-82', 'NEW YORK'] \r\n",
      "['SCOTT', 'RESEARCH', 'ANALYST', '7788', '19-Apr-87', 'DALLAS'] \r\n",
      "['SMITH', 'RESEARCH', 'CLERK', '7369', '17-Dec-80', 'DALLAS'] \r\n",
      "['TURNER', 'SALES', 'SALESMAN', '7844', '08-Sep-81', 'CHICAGO'] \r\n",
      "['WARD', 'SALES', 'SALESMAN', '7521', '22-Feb-81', 'CHICAGO'] \r\n"
     ]
    }
   ],
   "source": [
    "import csv\n",
    "with open('E:\\\\emp_data.csv', 'r') as file:\n",
    "    reader = csv.reader(file)\n",
    "    for row in reader:\n",
    "        print(row,\"\\r\")"
   ]
  },
  {
   "cell_type": "code",
   "execution_count": 10,
   "id": "0082e666",
   "metadata": {},
   "outputs": [
    {
     "name": "stdout",
     "output_type": "stream",
     "text": [
      "['No', 'Name', 'Age'] \r\n",
      "['1', 'Arpan Maity', '27'] \r\n",
      "['2', 'Tony Stark', '34'] \r\n"
     ]
    }
   ],
   "source": [
    "import csv\n",
    "with open('E:\\\\name_age.csv', 'w', newline='') as file:\n",
    "    writer = csv.writer(file)\n",
    "    writer.writerow([\"No\", \"Name\", \"Age\"])\n",
    "    writer.writerow([1, \"Arpan Maity\", \"27\"])\n",
    "    writer.writerow([2, \"Tony Stark\", \"34\"])\n",
    "with open('E:\\\\name_age.csv', 'r') as file:\n",
    "    reader = csv.reader(file)\n",
    "    for row in reader:\n",
    "        print(row,\"\\r\")"
   ]
  },
  {
   "cell_type": "markdown",
   "id": "d0943904",
   "metadata": {},
   "source": [
    "### 3. What modes do File objects for reader and writer objects need to be opened in?"
   ]
  },
  {
   "cell_type": "raw",
   "id": "d2aee1ad",
   "metadata": {},
   "source": [
    "For reader object we open file in read mode 'r'.\n",
    "For writer object we open file in write mode 'w'."
   ]
  },
  {
   "cell_type": "markdown",
   "id": "2c2da1ed",
   "metadata": {},
   "source": [
    "### 4. What method takes a list argument and writes it to a CSV file?"
   ]
  },
  {
   "cell_type": "raw",
   "id": "7b87a6d1",
   "metadata": {},
   "source": [
    "writerow() method for list argument in csv file."
   ]
  },
  {
   "cell_type": "markdown",
   "id": "cbfe866c",
   "metadata": {},
   "source": [
    "### 5. What do the keyword arguments delimiter and line terminator do?"
   ]
  },
  {
   "cell_type": "raw",
   "id": "7753913a",
   "metadata": {},
   "source": [
    "The delimiter is the character that appears between cells on a row. By default, the delimiter for a CSV file is a comma. \n",
    "The line terminator is the character that comes at the end of a row. By default, the line terminator is a newline. You can change characters to different values by using the delimiter and lineterminator keyword arguments with csv.writer()."
   ]
  },
  {
   "cell_type": "markdown",
   "id": "b26671d1",
   "metadata": {},
   "source": [
    "### 6. What function takes a string of JSON data and returns a Python data structure?"
   ]
  },
  {
   "cell_type": "raw",
   "id": "03ef0285",
   "metadata": {},
   "source": [
    "dumps() function convert json data into python data structure."
   ]
  },
  {
   "cell_type": "code",
   "execution_count": 38,
   "id": "7513a9ef",
   "metadata": {},
   "outputs": [
    {
     "name": "stdout",
     "output_type": "stream",
     "text": [
      "{\"isCat\": true, \"miceCaught\": 0, \"name\": \"Zophie\", \"felineIQ\": null}\n"
     ]
    }
   ],
   "source": [
    "import json\n",
    "f = open('E:\\\\check.json','w')\n",
    "pythonValue = {'isCat': True, 'miceCaught': 0, 'name': 'Zophie', 'felineIQ': None}\n",
    "k = json.dumps(pythonValue)\n",
    "print(k)\n",
    "f.write(k)\n",
    "f.close()"
   ]
  },
  {
   "cell_type": "markdown",
   "id": "a28fbe00",
   "metadata": {},
   "source": [
    "### 7. What function takes a Python data structure and returns a string of JSON data?"
   ]
  },
  {
   "cell_type": "raw",
   "id": "1c7941e9",
   "metadata": {},
   "source": [
    "loads() function converts python data structure and returns a string of json data."
   ]
  },
  {
   "cell_type": "code",
   "execution_count": 28,
   "id": "789d7935",
   "metadata": {},
   "outputs": [
    {
     "name": "stdout",
     "output_type": "stream",
     "text": [
      "firstName : Joe\n",
      "lastName : Jackson\n",
      "gender : male\n",
      "age : 28\n",
      "address : {'streetAddress': '101', 'city': 'San Diego', 'state': 'CA'}\n",
      "phoneNumbers : [{'type': 'home', 'number': '7349282382'}]\n"
     ]
    }
   ],
   "source": [
    "import json\n",
    "f = open('E:\\\\demo.json')\n",
    "data = json.load(f)\n",
    "for i in data:\n",
    "    print(i, ':' ,data[i])\n",
    "f.close()"
   ]
  }
 ],
 "metadata": {
  "kernelspec": {
   "display_name": "Python 3 (ipykernel)",
   "language": "python",
   "name": "python3"
  },
  "language_info": {
   "codemirror_mode": {
    "name": "ipython",
    "version": 3
   },
   "file_extension": ".py",
   "mimetype": "text/x-python",
   "name": "python",
   "nbconvert_exporter": "python",
   "pygments_lexer": "ipython3",
   "version": "3.9.7"
  }
 },
 "nbformat": 4,
 "nbformat_minor": 5
}
