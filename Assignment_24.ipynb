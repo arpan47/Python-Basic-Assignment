{
 "cells": [
  {
   "cell_type": "markdown",
   "id": "06edae9d",
   "metadata": {},
   "source": [
    "<h1 align='center' style=\"background-color:RGB(255, 228, 145);\">Python Basic Assignment 24</h1>"
   ]
  },
  {
   "cell_type": "markdown",
   "id": "26e88e20",
   "metadata": {},
   "source": [
    "### 1. What is the relationship between def statements and lambda expressions ?"
   ]
  },
  {
   "cell_type": "raw",
   "id": "95dbeef5",
   "metadata": {},
   "source": [
    "def statement is used to create a normal function whereas lambda expressions are used to create Anonymous functions which can be assigned to a variable and can be called using the variable later in function.\n",
    "\n",
    "Lambda's body is a single expression and not a block of statements like def statement. The lambda expression's body is similar to a def body's return statement. We simply type the result as an expression instead of explicitly returning it. Because it is limited to an expression, a lambda is less general than a def statement. "
   ]
  },
  {
   "cell_type": "markdown",
   "id": "5837f8d7",
   "metadata": {},
   "source": [
    "### 2. What is the benefit of lambda ?"
   ]
  },
  {
   "cell_type": "raw",
   "id": "f44fb740",
   "metadata": {},
   "source": [
    "The following are some of the benefits of lambda expressions: \n",
    "\n",
    "1. Can be used to create Nameless/Anonymous functions inside some complex functions if we are planning to use it only once.\n",
    "2. Moderate to small functions can be created in a single line\n",
    "3. Fuctions created using lambda expressions can be assigned to a variable and can be used by simply calling the variable"
   ]
  },
  {
   "cell_type": "code",
   "execution_count": 3,
   "id": "c4703df4",
   "metadata": {},
   "outputs": [
    {
     "data": {
      "text/plain": [
       "110"
      ]
     },
     "execution_count": 3,
     "metadata": {},
     "output_type": "execute_result"
    }
   ],
   "source": [
    "add = lambda x, y: x + y\n",
    "add(80, 30)"
   ]
  },
  {
   "cell_type": "markdown",
   "id": "48e237fa",
   "metadata": {},
   "source": [
    "### 3. Compare and contrast map, filter, and reduce."
   ]
  },
  {
   "cell_type": "raw",
   "id": "224d6bd0",
   "metadata": {},
   "source": [
    "The map() Function:\n",
    "\n",
    "The map() function iterates through all items in the given iterable and executes the function we passed as an argument on each of them.\n",
    "\n",
    "It's syntax is: map(function, iterable(s))\n",
    "\n",
    "Note: We can pass as many iterable objects as we want after passing the function we want to use:"
   ]
  },
  {
   "cell_type": "code",
   "execution_count": 7,
   "id": "8d26fdba",
   "metadata": {},
   "outputs": [
    {
     "name": "stdout",
     "output_type": "stream",
     "text": [
      "[True, False, False, True, False]\n"
     ]
    }
   ],
   "source": [
    "def starts_with_A(s):\n",
    "    return s[0] == \"A\"\n",
    "fruit = [\"Apple\", \"Banana\", \"Pear\", \"Apricot\", \"Orange\"]\n",
    "map_object = map(starts_with_A, fruit)\n",
    "print(list(map_object))"
   ]
  },
  {
   "cell_type": "raw",
   "id": "0435fa20",
   "metadata": {},
   "source": [
    "The filter() Function:\n",
    "\n",
    "Pretty similar to the map(), filter() takes a function object and an iterable and creates a new list.\n",
    "\n",
    "As the name suggests, filter() forms a new list that contains only elements that satisfy a certain condition, i.e. the function we passed returns True.\n",
    "\n",
    "The syntax is: filter(function, iterable(s))\n",
    "\n",
    "Note: Using the previous example, we can see that the new list will only contain elements for which the starts_with_A() function, returning the values which satisfy the conditions."
   ]
  },
  {
   "cell_type": "code",
   "execution_count": 8,
   "id": "ed9bafb1",
   "metadata": {},
   "outputs": [
    {
     "name": "stdout",
     "output_type": "stream",
     "text": [
      "['Apple', 'Apricot']\n"
     ]
    }
   ],
   "source": [
    "def starts_with_A(s):\n",
    "    return s[0] == \"A\"\n",
    "fruit = [\"Apple\", \"Banana\", \"Pear\", \"Apricot\", \"Orange\"]\n",
    "filter_object = filter(starts_with_A, fruit)\n",
    "print(list(filter_object))"
   ]
  },
  {
   "cell_type": "raw",
   "id": "02e316a2",
   "metadata": {},
   "source": [
    "The reduce() Function:\n",
    "\n",
    "The reduce() works differently than map() and filter(). It does not return a new list based on the function and iterable we've passed. Instead, it returns a single value. In Python 3, reduce() isn't a built-in function anymore, and it can be found in the functools module.\n",
    "\n",
    "The syntax is: reduce(function, sequence[, initial])\n",
    "\n",
    "Note: reduce() works by calling the function we passed for the first two items in the sequence. The result returned by the function is used in another call to function alongside with the next (third in this case), element."
   ]
  },
  {
   "cell_type": "code",
   "execution_count": 5,
   "id": "289e88a2",
   "metadata": {},
   "outputs": [
    {
     "name": "stdout",
     "output_type": "stream",
     "text": [
      "20\n"
     ]
    }
   ],
   "source": [
    "from functools import reduce\n",
    "def add(x, y):\n",
    "    return x + y\n",
    "list = [2, 3, 4, 5, 6]\n",
    "print(reduce(add, list))"
   ]
  },
  {
   "cell_type": "markdown",
   "id": "4de21a36",
   "metadata": {},
   "source": [
    "### 4. What are function annotations, and how are they used ?"
   ]
  },
  {
   "cell_type": "raw",
   "id": "68648cf5",
   "metadata": {},
   "source": [
    "Basics of Function Annotations:\n",
    "\n",
    "1. Function annotations are completely optional both for parameters and return value.\n",
    "2. Function annotations provide a way of associating various parts of a function with arbitrary python expressions at compile time.\n",
    "3. The PEP-3107 makes no attempt to introduce any kind of standard semantics, even for the built-in types."
   ]
  },
  {
   "cell_type": "markdown",
   "id": "7345a626",
   "metadata": {},
   "source": [
    "### 5. What are recursive functions, and how are they used ?"
   ]
  },
  {
   "cell_type": "raw",
   "id": "1e546fd3",
   "metadata": {},
   "source": [
    "A recursive function is a function that calls itself during its execution. The process may repeat several times, outputting the result and the end of each iteration."
   ]
  },
  {
   "cell_type": "code",
   "execution_count": 9,
   "id": "6001ebd4",
   "metadata": {},
   "outputs": [
    {
     "data": {
      "text/plain": [
       "120"
      ]
     },
     "execution_count": 9,
     "metadata": {},
     "output_type": "execute_result"
    }
   ],
   "source": [
    "def factorial(x):\n",
    "    if x == 1:\n",
    "        return 1\n",
    "    else:\n",
    "        return (x * factorial(x-1)) # recursive call\n",
    "    \n",
    "factorial(5)"
   ]
  },
  {
   "cell_type": "markdown",
   "id": "e2d60b47",
   "metadata": {},
   "source": [
    "### 6. What are some general design guidelines for coding functions ?"
   ]
  },
  {
   "cell_type": "raw",
   "id": "2c61327b",
   "metadata": {},
   "source": [
    "Some of the general design guidelines for coding functions are:\n",
    "\n",
    "1. Proper Identation to increase the code readability.\n",
    "2. Always use docstrings to showcase the purpose of the function.\n",
    "3. Use of regular and updated comments are valuable to both the coders and users.\n",
    "4. Always try to follow a naming convention for function names as well as while declaring variables.\n",
    "5. Wrap lines so that they don’t exceed 79 characters"
   ]
  },
  {
   "cell_type": "markdown",
   "id": "732a4885",
   "metadata": {},
   "source": [
    "### 7. Name three or more ways that functions can communicate results to a caller."
   ]
  },
  {
   "cell_type": "raw",
   "id": "c5ce2b11",
   "metadata": {},
   "source": [
    "Some of the ways in which a function can communicate with the calling function is:\n",
    "\n",
    "1. return\n",
    "2. print\n",
    "3. yield"
   ]
  },
  {
   "cell_type": "code",
   "execution_count": null,
   "id": "62ba2056",
   "metadata": {},
   "outputs": [],
   "source": []
  }
 ],
 "metadata": {
  "kernelspec": {
   "display_name": "Python 3 (ipykernel)",
   "language": "python",
   "name": "python3"
  },
  "language_info": {
   "codemirror_mode": {
    "name": "ipython",
    "version": 3
   },
   "file_extension": ".py",
   "mimetype": "text/x-python",
   "name": "python",
   "nbconvert_exporter": "python",
   "pygments_lexer": "ipython3",
   "version": "3.9.7"
  }
 },
 "nbformat": 4,
 "nbformat_minor": 5
}
