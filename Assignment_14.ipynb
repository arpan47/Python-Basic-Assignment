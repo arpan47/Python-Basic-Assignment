{
 "cells": [
  {
   "cell_type": "markdown",
   "id": "fcd97839",
   "metadata": {},
   "source": [
    "<h1 align='center' style=\"background-color:RGB(255, 228, 145);\">Python Basic Assignment 14</h1>"
   ]
  },
  {
   "cell_type": "markdown",
   "id": "e6ecbeab",
   "metadata": {},
   "source": [
    "### 1. What does RGBA stand for?"
   ]
  },
  {
   "cell_type": "raw",
   "id": "b3c284b6",
   "metadata": {},
   "source": [
    "RGB is a 3-channel format containing data for Red, Green, and Blue.\n",
    "\n",
    "RGBA is a 4-channel format containing data for Red, Green, Blue, and Alpha. The RGB color model is extended in this specification to include “alpha” to allow specification of the opacity of a color."
   ]
  },
  {
   "cell_type": "markdown",
   "id": "47f784cd",
   "metadata": {},
   "source": [
    "### 2. From the Pillow module, how do you get the RGBA value of any images?"
   ]
  },
  {
   "cell_type": "raw",
   "id": "4e648876",
   "metadata": {},
   "source": [
    "ImageColor.getcolor() gives RGBA value of any image."
   ]
  },
  {
   "cell_type": "code",
   "execution_count": 5,
   "id": "acacb5dd",
   "metadata": {},
   "outputs": [
    {
     "name": "stdout",
     "output_type": "stream",
     "text": [
      "[(282, (255, 127, 39, 255)), (118, (255, 242, 0, 255))]\n"
     ]
    }
   ],
   "source": [
    "from PIL import Image\n",
    "img = Image.open(\"E:\\\\img.png\")\n",
    "k = img.getcolors()\n",
    "print(k)"
   ]
  },
  {
   "cell_type": "markdown",
   "id": "78b8493b",
   "metadata": {},
   "source": [
    "### 3. What is a box tuple, and how does it work?"
   ]
  },
  {
   "cell_type": "raw",
   "id": "e55d3227",
   "metadata": {},
   "source": [
    "The box tuple is a tuple of four integer coordinates that represent a rectangular region in an image. The four integers are in order as follows:\n",
    " Left   : The x-coordinate of the leftmost edge of the box.\n",
    " Top    : The y-coordinate of the top edge of the box.\n",
    " Right  : The x-coordinate of one pixel to the right of the rightmost edge of the box, value must be greater than left.\n",
    " Bottom : The y-coordinate of one pixel lower than the bottom edge of the box, must be greater than the top.\n",
    "     \n",
    "Note:the box includes the left and top coordinates and goes up to but does not include the right and bottom coordinates."
   ]
  },
  {
   "cell_type": "markdown",
   "id": "462486da",
   "metadata": {},
   "source": [
    "### 4. Use your image and load in notebook then, How can you find out the width and height of an Image object?"
   ]
  },
  {
   "cell_type": "code",
   "execution_count": 2,
   "id": "b13a7bb9",
   "metadata": {},
   "outputs": [
    {
     "name": "stdout",
     "output_type": "stream",
     "text": [
      "width and height of image is 319, 426 respectively\n"
     ]
    }
   ],
   "source": [
    "from PIL import Image\n",
    "pic = Image.open('E:\\\\cat.jpg')\n",
    "width = pic.width\n",
    "height = pic.height\n",
    "\n",
    "print(\"width and height of image is {}, {} respectively\".format(width,height))"
   ]
  },
  {
   "cell_type": "markdown",
   "id": "5b6a9cd9",
   "metadata": {},
   "source": [
    "### 5. What method would you call to get Image object for a 100×100 image, excluding the lower-left quarter of it?"
   ]
  },
  {
   "cell_type": "raw",
   "id": "d29f8ebc",
   "metadata": {},
   "source": [
    "To get Image object for a 100×100 image, excluding the lower-left quarter, we have to use pic.paste() method to exclude."
   ]
  },
  {
   "cell_type": "code",
   "execution_count": 75,
   "id": "7188ef29",
   "metadata": {
    "scrolled": true
   },
   "outputs": [],
   "source": [
    "from PIL import Image\n",
    "pic = Image.open('E:\\\\ss.png')\n",
    "pic.paste(Image.new('RGBA' , (int(pic.width/2), int(pic.height/2))), (0,int(pic.height/2)))\n",
    "pic.show()"
   ]
  },
  {
   "cell_type": "code",
   "execution_count": 3,
   "id": "cb3b6e15",
   "metadata": {},
   "outputs": [],
   "source": [
    "from PIL import Image\n",
    "import numpy as np      \n",
    "img = Image.open('E:\\\\ss.png').convert('RGB')\n",
    "wid = img.width\n",
    "hig = img.height\n",
    "img_arr = np.array(img)\n",
    "img_arr[int(hig/2) : int(hig) , 0 : int(wid/2)] = (0, 0, 0)\n",
    "img = Image.fromarray(img_arr)\n",
    "img.show()\n",
    "img.save(\"E:\\\\copy.png\")"
   ]
  },
  {
   "cell_type": "markdown",
   "id": "8d080f66",
   "metadata": {},
   "source": [
    "### 6. After making changes to an Image object, how could you save it as an image file?"
   ]
  },
  {
   "cell_type": "raw",
   "id": "7de7d4e9",
   "metadata": {},
   "source": [
    "imageObj.save('file.jpg')"
   ]
  },
  {
   "cell_type": "markdown",
   "id": "f5230d30",
   "metadata": {},
   "source": [
    "### 7. What module contains Pillow’s shape-drawing code?"
   ]
  },
  {
   "cell_type": "raw",
   "id": "6fe3ecbc",
   "metadata": {},
   "source": [
    "The ImageDraw module provides a simple 2D graphics for Image objects. You can use this module to create new images, annotate or retouch existing images, and to generate graphics on the fly for web use."
   ]
  },
  {
   "cell_type": "markdown",
   "id": "61a64d64",
   "metadata": {},
   "source": [
    "### 8. Image objects do not have drawing methods. What kind of object does? How do you get this kind of object?"
   ]
  },
  {
   "cell_type": "raw",
   "id": "a7a7efb5",
   "metadata": {},
   "source": [
    "The ‘ImageDraw’ module provides simple 2D graphics support to draw shapes and objects.\n",
    "It is imported as ImageDraw and use drawing methods like line(), point(), rectangle(),eclipse()."
   ]
  },
  {
   "cell_type": "code",
   "execution_count": 89,
   "id": "96f8fdb2",
   "metadata": {},
   "outputs": [],
   "source": [
    "from PIL import Image, ImageDraw\n",
    "im = Image.new('RGBA', (500, 300), 'white')\n",
    "draw = ImageDraw.Draw(im)\n",
    "#draw.line([(0, 0), (199, 0), (199, 199), (0, 199), (0, 0)], fill='white')\n",
    "draw.rectangle((0, 0, 500, 100), fill='orange')\n",
    "draw.rectangle((0, 200, 500, 300),fill='green')\n",
    "draw.ellipse((201, 101, 299, 199), width = 1, outline = 'blue')\n",
    "draw.line([(250, 101), (250, 199)], fill='blue')\n",
    "draw.line([(201, 150), (299, 150)], fill='blue')\n",
    "draw.line([(203, 138), (297, 163)], fill='blue')\n",
    "draw.line([(208, 126), (291, 175)], fill='blue')\n",
    "draw.line([(215, 116), (284, 185)], fill='blue')\n",
    "draw.line([(225, 108), (274, 193)], fill='blue')\n",
    "draw.line([(237, 103), (262, 197)], fill='blue')\n",
    "draw.line([(297, 138), (203, 163)], fill='blue')\n",
    "draw.line([(291, 126), (208, 175)], fill='blue')\n",
    "draw.line([(284, 116), (215, 185)], fill='blue')\n",
    "draw.line([(274, 108), (225, 193)], fill='blue')\n",
    "draw.line([(262, 103), (237, 197)], fill='blue')\n",
    "im.show()"
   ]
  }
 ],
 "metadata": {
  "kernelspec": {
   "display_name": "Python 3 (ipykernel)",
   "language": "python",
   "name": "python3"
  },
  "language_info": {
   "codemirror_mode": {
    "name": "ipython",
    "version": 3
   },
   "file_extension": ".py",
   "mimetype": "text/x-python",
   "name": "python",
   "nbconvert_exporter": "python",
   "pygments_lexer": "ipython3",
   "version": "3.9.7"
  }
 },
 "nbformat": 4,
 "nbformat_minor": 5
}
