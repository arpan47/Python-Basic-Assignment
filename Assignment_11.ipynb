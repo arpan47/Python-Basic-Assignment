{
 "cells": [
  {
   "cell_type": "markdown",
   "id": "fcd97839",
   "metadata": {},
   "source": [
    "<h1 align='center' style=\"background-color:RGB(255, 228, 145);\">Python Basic Assignment 11</h1>"
   ]
  },
  {
   "cell_type": "markdown",
   "id": "59db9bbc",
   "metadata": {},
   "source": [
    "### 1. Create an assert statement that throws an AssertionError if the variable spam is a negative integer."
   ]
  },
  {
   "cell_type": "code",
   "execution_count": 8,
   "id": "a439e803",
   "metadata": {},
   "outputs": [],
   "source": [
    "def check_neg(spam):\n",
    "    try:\n",
    "        spam = int(spam)\n",
    "        assert spam>0 , \"Value can't be negative\"\n",
    "        return spam\n",
    "    except Exception as e:\n",
    "        print(e.__class__,e)"
   ]
  },
  {
   "cell_type": "code",
   "execution_count": 11,
   "id": "9c186aaa",
   "metadata": {},
   "outputs": [
    {
     "name": "stdout",
     "output_type": "stream",
     "text": [
      "<class 'AssertionError'> Value can't be negative\n"
     ]
    }
   ],
   "source": [
    "check_neg(-100)"
   ]
  },
  {
   "cell_type": "markdown",
   "id": "4287d4cf",
   "metadata": {},
   "source": [
    "### 2. Write an assert statement that triggers an AssertionError if the variables eggs and bacon contain strings that are the same as each other, even if their cases are different (that is, 'hello' and 'hello' are considered the same, and 'goodbye' and 'GOODbye' are also considered the same)."
   ]
  },
  {
   "cell_type": "code",
   "execution_count": 32,
   "id": "1daa64d2",
   "metadata": {},
   "outputs": [],
   "source": [
    "def assert_stat(eggs, bacon):\n",
    "    try:\n",
    "        assert str(eggs).lower()!=str(bacon).lower(), \"You have just entered same words\"\n",
    "    except Exception as e:\n",
    "        print(e.__class__, e)"
   ]
  },
  {
   "cell_type": "code",
   "execution_count": 43,
   "id": "d2855be8",
   "metadata": {},
   "outputs": [
    {
     "name": "stdout",
     "output_type": "stream",
     "text": [
      "<class 'AssertionError'> You have just entered same words\n"
     ]
    }
   ],
   "source": [
    "assert_stat(\"goodbye\",\"GOODbye\")"
   ]
  },
  {
   "cell_type": "markdown",
   "id": "73aae706",
   "metadata": {},
   "source": [
    "### 3. Create an assert statement that throws an AssertionError every time."
   ]
  },
  {
   "cell_type": "code",
   "execution_count": 44,
   "id": "23e0f7de",
   "metadata": {},
   "outputs": [],
   "source": [
    "def always_error():\n",
    "    try:\n",
    "        assert False, \"Assertion Error\"\n",
    "    except Exception as e:\n",
    "        print(e.__class__, e)"
   ]
  },
  {
   "cell_type": "code",
   "execution_count": 45,
   "id": "0229ef2b",
   "metadata": {},
   "outputs": [
    {
     "name": "stdout",
     "output_type": "stream",
     "text": [
      "<class 'AssertionError'> Assertion Error\n"
     ]
    }
   ],
   "source": [
    "always_error()"
   ]
  },
  {
   "cell_type": "markdown",
   "id": "bd3177f8",
   "metadata": {},
   "source": [
    "### 4. What are the two lines that must be present in your software in order to call logging.debug()?"
   ]
  },
  {
   "cell_type": "raw",
   "id": "f9fa2807",
   "metadata": {},
   "source": [
    "These below two lines must be present in software to call logging.debug() method.\n",
    "import logging                            <-- importing logging library\n",
    "logging.basicConfig(filename,level)       <-- Log File Name and the logging level is required"
   ]
  },
  {
   "cell_type": "code",
   "execution_count": 1,
   "id": "52fd73bb",
   "metadata": {},
   "outputs": [],
   "source": [
    "import logging\n",
    "logging.basicConfig(filename = 'code.log', level = logging.DEBUG, format = '%(asctime)s - %(message)s - %(levelname)s')\n",
    "logging.debug(\"this is my debug log\")\n",
    "logging.info(\"this is my info log\")\n",
    "logging.warning(\"this is my warning log\")\n",
    "logging.error(\"this is my error log\")\n",
    "logging.critical(\"this is my critical log\")\n",
    "logging.shutdown()"
   ]
  },
  {
   "cell_type": "markdown",
   "id": "15510c5c",
   "metadata": {},
   "source": [
    "### 5. What are the two lines that your program must have in order to have logging.debug() send a logging message to a file named programLog.txt?"
   ]
  },
  {
   "cell_type": "code",
   "execution_count": 1,
   "id": "7cf28e37",
   "metadata": {},
   "outputs": [],
   "source": [
    "import logging\n",
    "logging.basicConfig(filename='programLog.txt', level=logging.DEBUG)\n",
    "logging.debug(\"Debug Msg\")\n",
    "logging.shutdown()"
   ]
  },
  {
   "cell_type": "markdown",
   "id": "4933b66c",
   "metadata": {},
   "source": [
    "### 6. What are the five levels of logging?"
   ]
  },
  {
   "cell_type": "raw",
   "id": "5263d82d",
   "metadata": {},
   "source": [
    "Five Levels of logging as follows :\n",
    "\n",
    "|   Level    | Numeric value |\n",
    "|------------|---------------|\n",
    "|   CRITICAL | 50            |\n",
    "|   ERROR    | 40            | \n",
    "|   WARNING  | 30            |\n",
    "|   INFO     | 20            |\n",
    "|   DEBUG    | 10            |\n",
    "|   NOTSET   | 0             |\n",
    "\n",
    "logging.debug()     - variable's state and small details\n",
    "logging.info()      - general events, confirm a program is working\n",
    "logging.warning()   - potiental problem to work on in the future\n",
    "logging.error()     - record an error that caused program to fail to do something\n",
    "logging.critical()  - fatal error "
   ]
  },
  {
   "cell_type": "markdown",
   "id": "8ccbe9a1",
   "metadata": {},
   "source": [
    "### 7. What line of code would you add to your software to disable all logging messages?"
   ]
  },
  {
   "cell_type": "raw",
   "id": "bffc9773",
   "metadata": {},
   "source": [
    "either \"logging.disable(level = 50)\" or \"logging.disable(logging.CRITICAL)\" will disable all five level loggers."
   ]
  },
  {
   "cell_type": "code",
   "execution_count": 2,
   "id": "975870ea",
   "metadata": {},
   "outputs": [],
   "source": [
    "import logging\n",
    "logging.basicConfig(filename = 'code.log', level = logging.NOTSET, format = '%(asctime)s - %(message)s - %(levelname)s')\n",
    "#logging.disable(level = 50)\n",
    "logging.disable(logging.CRITICAL)\n",
    "logging.debug(\"this is my debug log\")\n",
    "logging.info(\"this is my info log\")\n",
    "logging.warning(\"this is my warning log\")\n",
    "logging.error(\"this is my error log\")\n",
    "logging.critical(\"this is my critical log\")\n",
    "logging.shutdown()"
   ]
  },
  {
   "cell_type": "markdown",
   "id": "5d5c9c8e",
   "metadata": {},
   "source": [
    "### 8. Why is using logging messages better than using print() to display the same message?"
   ]
  },
  {
   "cell_type": "raw",
   "id": "098dcbec",
   "metadata": {},
   "source": [
    "Below are some reason, logging messages are better than using print().\n",
    "\n",
    "1. Easy to see where and when (even what line no.) a logging call is being made from.\n",
    "2. We can log to files, sockets, pretty much anything, all at the same time.\n",
    "3. We can differentiate your logging based on severity.\n",
    "\n",
    "Print() method doesn't have any of these."
   ]
  },
  {
   "cell_type": "markdown",
   "id": "3986be94",
   "metadata": {},
   "source": [
    "### 9. What are the differences between the Step Over, Step In, and Step Out buttons in the debugger?"
   ]
  },
  {
   "cell_type": "raw",
   "id": "c942adbf",
   "metadata": {},
   "source": [
    "Step Over : Steps over the current line of code and takes us to the next line even if the highlighted line has method calls in it. The implementation of the methods is skipped, and we move straight to the next line of the caller method.\n",
    "Step Out : Steps out of the current method and takes us to the caller method.\n",
    "Step In : Steps into the method to show what happens inside it. Use this option when we are not sure the method is returning a correct result."
   ]
  },
  {
   "cell_type": "markdown",
   "id": "69d87947",
   "metadata": {},
   "source": [
    "### 10. After you click Continue, when will the debugger stop?"
   ]
  },
  {
   "cell_type": "raw",
   "id": "4588688b",
   "metadata": {},
   "source": [
    "This will cause the program to continue running normally, without pausing for debugging  untill it is completed. Debugger will stop when it has reached the end of the program or a line with a breakpoint."
   ]
  },
  {
   "cell_type": "markdown",
   "id": "826bbcfa",
   "metadata": {},
   "source": [
    "### 11. What is the concept of a breakpoint?"
   ]
  },
  {
   "cell_type": "raw",
   "id": "3f408733",
   "metadata": {},
   "source": [
    "A breakpoint is a setting on a line of code that causes the debugger to pause when the program execution reaches the line."
   ]
  }
 ],
 "metadata": {
  "kernelspec": {
   "display_name": "Python 3 (ipykernel)",
   "language": "python",
   "name": "python3"
  },
  "language_info": {
   "codemirror_mode": {
    "name": "ipython",
    "version": 3
   },
   "file_extension": ".py",
   "mimetype": "text/x-python",
   "name": "python",
   "nbconvert_exporter": "python",
   "pygments_lexer": "ipython3",
   "version": "3.9.7"
  }
 },
 "nbformat": 4,
 "nbformat_minor": 5
}
