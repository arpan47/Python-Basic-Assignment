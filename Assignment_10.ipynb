{
 "cells": [
  {
   "cell_type": "markdown",
   "id": "478e8251",
   "metadata": {},
   "source": [
    "<h1 align='center' style=\"background-color:RGB(255, 228, 145);\">Python Basic Assignment 10</h1>"
   ]
  },
  {
   "cell_type": "markdown",
   "id": "99333528",
   "metadata": {},
   "source": [
    "### 1. How do you distinguish between shutil.copy() and shutil.copytree()?"
   ]
  },
  {
   "cell_type": "raw",
   "id": "c968fbeb",
   "metadata": {},
   "source": [
    "shutil.copy() will copy the file at the path source to the folder at the path destination. (Both source and destination are strings.) If destination is a filename, it will be used as the new name of the copied file. This function returns a string of the path of the copied file.\n",
    "\n",
    "Whereas, The shutil.copytree() call creates a new folder with the same content as the original folder as backup."
   ]
  },
  {
   "cell_type": "code",
   "execution_count": 3,
   "id": "3721140b",
   "metadata": {},
   "outputs": [
    {
     "data": {
      "text/plain": [
       "'E:\\\\delicious.txt'"
      ]
     },
     "execution_count": 3,
     "metadata": {},
     "output_type": "execute_result"
    }
   ],
   "source": [
    "import shutil, os\n",
    "os.chdir('E:\\\\')\n",
    "shutil.copy('E:\\\\spam.txt', 'E:\\\\delicious.txt')"
   ]
  },
  {
   "cell_type": "code",
   "execution_count": 8,
   "id": "74a0f618",
   "metadata": {},
   "outputs": [
    {
     "data": {
      "text/plain": [
       "'E:\\\\test_backup'"
      ]
     },
     "execution_count": 8,
     "metadata": {},
     "output_type": "execute_result"
    }
   ],
   "source": [
    "import shutil, os\n",
    "os.chdir('E:\\\\')\n",
    "shutil.copytree('E:\\\\test', 'E:\\\\test_backup')"
   ]
  },
  {
   "cell_type": "markdown",
   "id": "17973b78",
   "metadata": {},
   "source": [
    "### 2. What function is used to rename files??"
   ]
  },
  {
   "cell_type": "raw",
   "id": "eedca63a",
   "metadata": {},
   "source": [
    "First import os module then use os.rename() to rename a file."
   ]
  },
  {
   "cell_type": "code",
   "execution_count": 11,
   "id": "7151ab03",
   "metadata": {},
   "outputs": [],
   "source": [
    "import os\n",
    "os.chdir('E:\\\\')\n",
    "os.rename('E:\\\\test\\\\IMG.JPG','E:\\\\test\\\\DP.JPG')"
   ]
  },
  {
   "cell_type": "markdown",
   "id": "a4cf439a",
   "metadata": {},
   "source": [
    "### 3. What is the difference between the delete functions in the send2trash and shutil modules?"
   ]
  },
  {
   "cell_type": "raw",
   "id": "5c9e0de1",
   "metadata": {},
   "source": [
    "send2trash sends file to recycle bin and shutil module deletes the file permanantly from the system."
   ]
  },
  {
   "cell_type": "code",
   "execution_count": 35,
   "id": "4c00f2d5",
   "metadata": {},
   "outputs": [],
   "source": [
    "f = open('E:\\\\test\\\\arpan.txt', 'w')      # To create a txt file\n",
    "f.write('Myself Arpan.')\n",
    "f.close()"
   ]
  },
  {
   "cell_type": "code",
   "execution_count": 7,
   "id": "9a770285",
   "metadata": {},
   "outputs": [],
   "source": [
    "import send2trash                         # To send a file to recycle bin\n",
    "send2trash.send2trash('E:\\\\test\\\\arpan.txt')"
   ]
  },
  {
   "cell_type": "code",
   "execution_count": 17,
   "id": "c30e6eb9",
   "metadata": {},
   "outputs": [],
   "source": [
    "import shutil                             # To delete the whole folder and the files in it permanently.\n",
    "shutil.rmtree('E:\\\\test')"
   ]
  },
  {
   "cell_type": "markdown",
   "id": "a511a1c0",
   "metadata": {},
   "source": [
    "### 4.ZipFile objects have a close() method just like File objects’ close() method. What ZipFile method is equivalent to File objects’ open() method?"
   ]
  },
  {
   "cell_type": "raw",
   "id": "c15c6b28",
   "metadata": {},
   "source": [
    "Method Zipfile() is equivalent to file objects open() method."
   ]
  },
  {
   "cell_type": "code",
   "execution_count": 34,
   "id": "10df1cb8",
   "metadata": {},
   "outputs": [],
   "source": [
    "import zipfile as zf\n",
    "a = zf.ZipFile(\"E:\\\\abc.zip\",'w')\n",
    "a.close()"
   ]
  },
  {
   "cell_type": "markdown",
   "id": "e6d7af25",
   "metadata": {},
   "source": [
    "### 5. Create a programme that searches a folder tree for files with a certain file extension (such as .pdf or .jpg). Copy these files from whatever location they are in to a new folder."
   ]
  },
  {
   "cell_type": "code",
   "execution_count": 32,
   "id": "4f1dc973",
   "metadata": {},
   "outputs": [],
   "source": [
    "import os, shutil\n",
    "\n",
    "def srch_n_cpy(folder, extensions, destFolder):\n",
    "    folder = os.path.abspath(folder)\n",
    "    destFolder = os.path.abspath(destFolder)\n",
    "    print('Looking in', folder, 'for files with extensions of', ', '.join(extensions),':\\n')\n",
    "    for foldername, subfolders, filenames in os.walk(folder):\n",
    "        for filename in filenames:\n",
    "            name, extension = os.path.splitext(filename)\n",
    "            extension = extension.lower()\n",
    "            if extension in extensions:\n",
    "                fileAbsPath = foldername + os.path.sep + filename\n",
    "                print('Coping', fileAbsPath, 'to', destFolder)\n",
    "                shutil.copy(fileAbsPath, destFolder)"
   ]
  },
  {
   "cell_type": "code",
   "execution_count": 33,
   "id": "b04948da",
   "metadata": {},
   "outputs": [
    {
     "name": "stdout",
     "output_type": "stream",
     "text": [
      "Looking in E:\\test for files with extensions of .pdf, .jpg :\n",
      "\n",
      "Coping E:\\test\\IMG_0438.JPG to E:\\test1\n",
      "Coping E:\\test\\merged.pdf to E:\\test1\n",
      "Coping E:\\test\\arp\\IMG.JPG to E:\\test1\n",
      "Coping E:\\test\\arp\\mmm.pdf to E:\\test1\n",
      "Coping E:\\test\\arp\\kk\\IMG_0438.JPG to E:\\test1\n",
      "Coping E:\\test\\arp\\kk\\lll.pdf to E:\\test1\n"
     ]
    }
   ],
   "source": [
    "srch_n_cpy('E:\\\\test\\\\', ['.pdf','.jpg'], 'E:\\\\test1\\\\')"
   ]
  }
 ],
 "metadata": {
  "kernelspec": {
   "display_name": "Python 3 (ipykernel)",
   "language": "python",
   "name": "python3"
  },
  "language_info": {
   "codemirror_mode": {
    "name": "ipython",
    "version": 3
   },
   "file_extension": ".py",
   "mimetype": "text/x-python",
   "name": "python",
   "nbconvert_exporter": "python",
   "pygments_lexer": "ipython3",
   "version": "3.9.7"
  }
 },
 "nbformat": 4,
 "nbformat_minor": 5
}
