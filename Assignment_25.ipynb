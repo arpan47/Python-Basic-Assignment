{
 "cells": [
  {
   "cell_type": "markdown",
   "id": "8137c15b",
   "metadata": {},
   "source": [
    "<h1 align='center' style=\"background-color:RGB(255, 228, 145);\">Python Basic Assignment 25</h1>"
   ]
  },
  {
   "cell_type": "markdown",
   "id": "f309577c",
   "metadata": {},
   "source": [
    "### 1 . What is the difference between enclosing a list comprehension in square brackets and parentheses ?"
   ]
  },
  {
   "cell_type": "raw",
   "id": "e8c8f126",
   "metadata": {},
   "source": [
    "Enclosing a list comprehension in square brackets returns a list but  enclosing a list comprehension in parentheses returns a generator object."
   ]
  },
  {
   "cell_type": "code",
   "execution_count": 2,
   "id": "b4745353-bbeb-46d7-bcab-9f81ab1914b5",
   "metadata": {},
   "outputs": [
    {
     "name": "stdout",
     "output_type": "stream",
     "text": [
      "<class 'list'>\n",
      "<class 'generator'>\n"
     ]
    }
   ],
   "source": [
    "l = [ele for ele in range(5)]\n",
    "print(type(l))\n",
    "g = (ele for ele in range(5))\n",
    "print(type(g))"
   ]
  },
  {
   "cell_type": "markdown",
   "id": "da93d5f5",
   "metadata": {},
   "source": [
    "### 2. What is the relationship between generators and iterators ?"
   ]
  },
  {
   "cell_type": "raw",
   "id": "5f01287a",
   "metadata": {},
   "source": [
    "Iterators are used mostly to iterate or convert other objects to an iterator using iter() function. Generators are mostly used in loops to generate an iterator by returning all the values in the loop without affecting the iteration of the loop."
   ]
  },
  {
   "cell_type": "markdown",
   "id": "0346fdc4",
   "metadata": {},
   "source": [
    "### 3. What are the signs that a function is a generator function ?"
   ]
  },
  {
   "cell_type": "raw",
   "id": "75932e8b",
   "metadata": {},
   "source": [
    "A generator function uses a yield statement instead of a return statement. A generator function will always return a iterable object called generator object whereas a normal function can return a string or integer or list or tuple or dict or NoneType etc."
   ]
  },
  {
   "cell_type": "markdown",
   "id": "449ab1be",
   "metadata": {},
   "source": [
    "### 4. What is the purpose of a yield statement ?"
   ]
  },
  {
   "cell_type": "raw",
   "id": "64c0b467",
   "metadata": {},
   "source": [
    "Yield is a keyword in Python that is used to return from a function without destroying the states of its local variable and when the function is called, the execution starts from the last yield statement. Any function that contains a yield keyword is termed a generator. Hence, yield is what makes a generator."
   ]
  },
  {
   "cell_type": "markdown",
   "id": "2fe36cf3",
   "metadata": {},
   "source": [
    "### 5. What is the relationship between map calls and list comprehensions? Make a comparison and contrast between the two ?"
   ]
  },
  {
   "cell_type": "raw",
   "id": "422fea84",
   "metadata": {
    "tags": []
   },
   "source": [
    "The main differences between map calls and list comprehensiosn are:\n",
    "\n",
    "List comprehension is more concise and easier to read as compared to map.\n",
    "\n",
    "List comprehension allows filtering. In map, we don't have no such facility.\n",
    "\n",
    "List comprehension are used when a list of results is required as final output.but map only returns a map object. it needs to be explicitly coverted to desired datatype.\n",
    "\n",
    "List comprehension is faster than map when we need to evaluate expressions that are too long or complicated to express\n",
    "\n",
    "Map is faster in case of calling an already defined function on a set of values."
   ]
  }
 ],
 "metadata": {
  "kernelspec": {
   "display_name": "Python 3 (ipykernel)",
   "language": "python",
   "name": "python3"
  },
  "language_info": {
   "codemirror_mode": {
    "name": "ipython",
    "version": 3
   },
   "file_extension": ".py",
   "mimetype": "text/x-python",
   "name": "python",
   "nbconvert_exporter": "python",
   "pygments_lexer": "ipython3",
   "version": "3.9.7"
  }
 },
 "nbformat": 4,
 "nbformat_minor": 5
}
