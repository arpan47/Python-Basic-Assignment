{
 "cells": [
  {
   "cell_type": "markdown",
   "id": "d8739378",
   "metadata": {},
   "source": [
    "### 1. What is the result of the code, and explain ?\n",
    "###### >>>X = 'iNeuron'  \n",
    "###### >>>def func():  \n",
    "######    print(X)  \n",
    "###### >>>func()"
   ]
  },
  {
   "cell_type": "raw",
   "id": "5f0b4d8a",
   "metadata": {},
   "source": [
    "The Result of this code is 'iNeuron', because the function intially looks for the variable X in its local scope, but since there is no local variable X, it returns the value of global variable x ie iNeuron."
   ]
  },
  {
   "cell_type": "code",
   "execution_count": 3,
   "id": "ee98b909",
   "metadata": {},
   "outputs": [
    {
     "name": "stdout",
     "output_type": "stream",
     "text": [
      "iNeuron\n"
     ]
    }
   ],
   "source": [
    "X = 'iNeuron'\n",
    "def func():\n",
    "    print(X)\n",
    "func()"
   ]
  },
  {
   "cell_type": "markdown",
   "id": "9bb6d9a9",
   "metadata": {},
   "source": [
    "### 2. What is the result of the code, and explain ?\n",
    "###### >>> X = 'iNeuron'  \n",
    "###### >>> def func():  \n",
    "###### X = 'NI!'  \n",
    "###### >>> func()  \n",
    "###### >>> print(X)"
   ]
  },
  {
   "cell_type": "raw",
   "id": "9f94c423",
   "metadata": {},
   "source": [
    "The Result of this code is NI!, because the function initially looks for the variable X in its local scope if X is not available then it checks for variable X in the global scope, Since here the X is present in the local scope. it prints the value NI!."
   ]
  },
  {
   "cell_type": "code",
   "execution_count": 4,
   "id": "8f219394",
   "metadata": {},
   "outputs": [
    {
     "name": "stdout",
     "output_type": "stream",
     "text": [
      "NI!\n"
     ]
    }
   ],
   "source": [
    "X = 'iNeuron'\n",
    "def func():\n",
    "    X = 'NI!'\n",
    "    print(X)\n",
    "func()"
   ]
  },
  {
   "cell_type": "markdown",
   "id": "8c992ceb",
   "metadata": {},
   "source": [
    "### 3. What does this code print, and why ?\n",
    "###### >>> X = 'iNeuron'  \n",
    "###### >>> def func():  \n",
    "###### X = 'NI'  \n",
    "###### print(X)  \n",
    "###### >>> func()  \n",
    "###### >>> print(X)   "
   ]
  },
  {
   "cell_type": "raw",
   "id": "ea7b571a",
   "metadata": {},
   "source": [
    "The output of the code is NI and iNeuron. X = NI is in the local scope of the function func() hence the function prints the x value as  NI.  X = 'iNeuron' is in the global scope. hence print(X) prints output as iNeuron."
   ]
  },
  {
   "cell_type": "code",
   "execution_count": 5,
   "id": "cabebabc",
   "metadata": {},
   "outputs": [
    {
     "name": "stdout",
     "output_type": "stream",
     "text": [
      "NI\n",
      "iNeuron\n"
     ]
    }
   ],
   "source": [
    "X = 'iNeuron'\n",
    "def func():\n",
    "    X = 'NI'\n",
    "    print(X)\n",
    "func()\n",
    "print(X)"
   ]
  },
  {
   "cell_type": "markdown",
   "id": "905d8b7b",
   "metadata": {},
   "source": [
    "### 4. What output does this code produce? Why ?\n",
    "###### >>> X = 'iNeuron'   \n",
    "###### >>> def func():   \n",
    "###### global X   \n",
    "###### X = 'NI'   \n",
    "###### >>> func()   \n",
    "###### >>> print(X)   "
   ]
  },
  {
   "cell_type": "raw",
   "id": "0853ccaf",
   "metadata": {},
   "source": [
    "The output of the code is NI. the global keyword allows a variable to be accessible in the current scope. since we are using global keyword inside the function func it directly access the variable in X in global scope. and changes its value to NI. hence the output of the code is NI"
   ]
  },
  {
   "cell_type": "code",
   "execution_count": 6,
   "id": "64e260a6",
   "metadata": {},
   "outputs": [
    {
     "name": "stdout",
     "output_type": "stream",
     "text": [
      "NI\n"
     ]
    }
   ],
   "source": [
    "X = 'iNeuron'\n",
    "def func():\n",
    "    global X\n",
    "    X = 'NI'\n",
    "func()\n",
    "print(X)"
   ]
  },
  {
   "cell_type": "markdown",
   "id": "9c6cd674",
   "metadata": {},
   "source": [
    "### 5. What about this code—what’s the output, and why ?\n",
    "###### >>> X = 'iNeuron'\n",
    "###### >>> def func():\n",
    "###### X = 'NI'\n",
    "###### def nested():\n",
    "###### print(X)\n",
    "###### nested()\n",
    "###### >>> func()\n",
    "###### >>> X"
   ]
  },
  {
   "cell_type": "raw",
   "id": "4acdb7dd",
   "metadata": {},
   "source": [
    "The output of the code is NI. the reason for this output is if a function wants to access a variable, if its not available in its localscope. it looks for the variable in its global scope. similarly here also function nested looks for variable X in its global scope. hence the output of the code is NI."
   ]
  },
  {
   "cell_type": "code",
   "execution_count": 7,
   "id": "9fd84bb5",
   "metadata": {},
   "outputs": [
    {
     "name": "stdout",
     "output_type": "stream",
     "text": [
      "NI\n"
     ]
    },
    {
     "data": {
      "text/plain": [
       "'iNeuron'"
      ]
     },
     "execution_count": 7,
     "metadata": {},
     "output_type": "execute_result"
    }
   ],
   "source": [
    "X = 'iNeuron'\n",
    "def func():\n",
    "    X = 'NI'\n",
    "    def nested():\n",
    "        print(X)\n",
    "    nested()\n",
    "func()\n",
    "X"
   ]
  },
  {
   "cell_type": "markdown",
   "id": "64dbeaa4",
   "metadata": {},
   "source": [
    "### 6. How about this code: what is its output in Python 3, and explain ?\n",
    "###### >>> def func():\n",
    "###### X = 'NI'\n",
    "###### def nested():\n",
    "###### nonlocal X\n",
    "###### X = 'Spam'\n",
    "###### nested()\n",
    "###### print(X)\n",
    "###### >>> func()"
   ]
  },
  {
   "cell_type": "raw",
   "id": "4a70d9e5",
   "metadata": {},
   "source": [
    "The output of the code is Spam. nonlocal keyword in python is used to declare a variable as nonlocal.Hence the statement X = \"Spam\" is modified in the global scope. hence the output of print(X) statement is Spam"
   ]
  },
  {
   "cell_type": "code",
   "execution_count": 22,
   "id": "9fab6b46",
   "metadata": {},
   "outputs": [
    {
     "name": "stdout",
     "output_type": "stream",
     "text": [
      "Spam\n"
     ]
    }
   ],
   "source": [
    "def func():\n",
    "    X = 'NI'\n",
    "    def nested():\n",
    "        nonlocal X\n",
    "        X = 'Spam'\n",
    "    nested()\n",
    "    print(X)\n",
    "    \n",
    "func()"
   ]
  }
 ],
 "metadata": {
  "kernelspec": {
   "display_name": "Python 3 (ipykernel)",
   "language": "python",
   "name": "python3"
  },
  "language_info": {
   "codemirror_mode": {
    "name": "ipython",
    "version": 3
   },
   "file_extension": ".py",
   "mimetype": "text/x-python",
   "name": "python",
   "nbconvert_exporter": "python",
   "pygments_lexer": "ipython3",
   "version": "3.9.7"
  }
 },
 "nbformat": 4,
 "nbformat_minor": 5
}
