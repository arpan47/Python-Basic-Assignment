{
 "cells": [
  {
   "cell_type": "markdown",
   "id": "8511c88d",
   "metadata": {},
   "source": [
    "### 1. In what modes should the PdfFileReader() and PdfFileWriter() File objects will be opened?"
   ]
  },
  {
   "cell_type": "raw",
   "id": "85d6200f",
   "metadata": {},
   "source": [
    "PdfFileReader() -- it is used in 'rb' mode i.e. read binary\n",
    "PdfFileWriter() -- it is used in 'wb' mode i.e. write binary"
   ]
  },
  {
   "cell_type": "markdown",
   "id": "02930420",
   "metadata": {},
   "source": [
    "### 2. From a PdfFileReader object, how do you get a Page object for page 5?"
   ]
  },
  {
   "cell_type": "raw",
   "id": "4a711d6b",
   "metadata": {},
   "source": [
    "use getpage(4) method."
   ]
  },
  {
   "cell_type": "code",
   "execution_count": null,
   "id": "15e2caf4",
   "metadata": {},
   "outputs": [],
   "source": [
    "import PyPDF2\n",
    "\n",
    "def read_pdf(dirr, file, pg_num):\n",
    "    pdfFileObj = open(dirr+\"/\"+file, 'rb')\n",
    "    pdfReader = PyPDF2.PdfFileReader(pdfFileObj)\n",
    "    pg_num = pg_num -1\n",
    "    pageObj = pdfReader.getPage(pg_num)\n",
    "    print(pageObj.extractText())\n",
    "    pdfFileObj.close()\n",
    "\n",
    "read_pdf(\"E://\", \"file.pdf\", 5)"
   ]
  },
  {
   "cell_type": "markdown",
   "id": "2e560d6a",
   "metadata": {},
   "source": [
    "### 3. What PdfFileReader variable stores the number of pages in the PDF document?"
   ]
  },
  {
   "cell_type": "raw",
   "id": "b5f19589",
   "metadata": {},
   "source": [
    "The total number of pages in the document is stored in the numPages attribute of a PdfFileReader object."
   ]
  },
  {
   "cell_type": "code",
   "execution_count": null,
   "id": "60cf67a9",
   "metadata": {},
   "outputs": [],
   "source": [
    "import PyPDF2\n",
    "def pg_no(dirr, file):\n",
    "    pdfFileObj = open(dirr+\"/\"+file, 'rb')\n",
    "    pdfReader = PyPDF2.PdfFileReader(pdfFileObj)\n",
    "    pg = pdfReader.getNumPages()\n",
    "    print(\"Number of pages : \",pg)\n",
    "    pdfFileObj.close()"
   ]
  },
  {
   "cell_type": "code",
   "execution_count": null,
   "id": "7a99da4d",
   "metadata": {},
   "outputs": [],
   "source": [
    "pg_no(\"E://\", \"file.pdf\")"
   ]
  },
  {
   "cell_type": "markdown",
   "id": "d64738b9",
   "metadata": {},
   "source": [
    "### 4. If a PdfFileReader object’s PDF is encrypted with the password swordfish, what must you do before you can obtain Page objects from it?"
   ]
  },
  {
   "cell_type": "raw",
   "id": "14cc4873",
   "metadata": {},
   "source": [
    "To read an encrypted PDF, call the decrypt() function and pass the password as a string before obtain Page objects.In our case decrypt function call like this pdfReader.decrypt('swordfish') to read an encrypted PDF."
   ]
  },
  {
   "cell_type": "code",
   "execution_count": null,
   "id": "97c368a9",
   "metadata": {},
   "outputs": [],
   "source": [
    "def read_pdf(dirr, file, pwd):\n",
    "    import PyPDF2\n",
    "    pdfFileObj = open(dirr+\"/\"+file, 'rb')\n",
    "    pdfReader = PyPDF2.PdfFileReader(pdfFileObj)  #PyPDF2.PdfFileReader(pdfFileObj)\n",
    "    print(pdfReader.isEncrypted)\n",
    "    pdfReader.decrypt(pwd)\n",
    "    for i in range(0,pdfReader.getNumPages(),1):\n",
    "        pageObj = pdfReader.getPage(i)\n",
    "        print(pageObj.extractText())\n",
    "    pdfFileObj.close()"
   ]
  },
  {
   "cell_type": "code",
   "execution_count": null,
   "id": "94ed88b5",
   "metadata": {},
   "outputs": [],
   "source": [
    "read_pdf(\"E://\", \"enc.pdf\", 'swordfish')"
   ]
  },
  {
   "cell_type": "markdown",
   "id": "8357fc78",
   "metadata": {},
   "source": [
    "### 5. What methods do you use to rotate a page?"
   ]
  },
  {
   "cell_type": "raw",
   "id": "fed204bc",
   "metadata": {},
   "source": [
    "For anticlockwise: rotateCounterClockwise() \n",
    "for clockwise    : rotateClockwise()"
   ]
  },
  {
   "cell_type": "code",
   "execution_count": null,
   "id": "60584edc",
   "metadata": {},
   "outputs": [],
   "source": [
    "def rot_pdf(dirr, file, wfl, flag, degree):\n",
    "    import PyPDF2\n",
    "    \n",
    "    pdf_in = open(dirr+\"/\"+file, 'rb')\n",
    "    pdf_reader = PyPDF2.PdfFileReader(pdf_in)\n",
    "    pdf_writer = PyPDF2.PdfFileWriter()\n",
    "\n",
    "    for pagenum in range(pdf_reader.numPages):\n",
    "        page = pdf_reader.getPage(pagenum)\n",
    "        if flag == 'Clockwise':\n",
    "            page.rotateClockwise(degree)\n",
    "        elif flag == 'CounterClockwise':\n",
    "            page.rotateCounterClockwise(degree) \n",
    "        pdf_writer.addPage(page)\n",
    "\n",
    "    pdf_out = open(dirr+\"/\"+wfl, 'wb')\n",
    "    pdf_writer.write(pdf_out)\n",
    "    pdf_out.close()\n",
    "    pdf_in.close()"
   ]
  },
  {
   "cell_type": "code",
   "execution_count": null,
   "id": "cf7cb95f",
   "metadata": {},
   "outputs": [],
   "source": [
    "rot_pdf(\"E://\", \"kk.pdf\", \"rot.pdf\", \"Clockwise\", 90)"
   ]
  },
  {
   "cell_type": "code",
   "execution_count": null,
   "id": "079970bc",
   "metadata": {},
   "outputs": [],
   "source": [
    "rot_pdf(\"E://\", \"kk.pdf\", \"rot.pdf\", \"CounterClockwise\", 90)"
   ]
  },
  {
   "cell_type": "markdown",
   "id": "43695954",
   "metadata": {},
   "source": [
    "### 6. What is the difference between a Run object and a Paragraph object?"
   ]
  },
  {
   "cell_type": "raw",
   "id": "7967ec54",
   "metadata": {},
   "source": [
    "Word document contain formatted text wrapped within three object levels:\n",
    "    lowest level: run objects.\n",
    "    middle level: paragraph objects.\n",
    "    highest level: document object.\n",
    "\n",
    "Run Object is used for inline content, text, pictures. Each of these Paragraph objects contain a list of one or more Run objects."
   ]
  },
  {
   "cell_type": "markdown",
   "id": "902a219b",
   "metadata": {},
   "source": [
    "### 7. How do you obtain a list of Paragraph objects for a Document object that’s stored in a variable named doc? "
   ]
  },
  {
   "cell_type": "code",
   "execution_count": 8,
   "id": "727c7baf",
   "metadata": {},
   "outputs": [
    {
     "data": {
      "text/plain": [
       "20"
      ]
     },
     "execution_count": 8,
     "metadata": {},
     "output_type": "execute_result"
    }
   ],
   "source": [
    "#!pip install python-docx\n",
    "import docx\n",
    "d = docx.Document('E:\\\\doc.docx')\n",
    "len(d.paragraphs)"
   ]
  },
  {
   "cell_type": "markdown",
   "id": "c034c4a4",
   "metadata": {},
   "source": [
    "### 8. What type of object has bold, underline, italic, strike, and outline variables?"
   ]
  },
  {
   "cell_type": "raw",
   "id": "2b144e78",
   "metadata": {},
   "source": [
    "Run object"
   ]
  },
  {
   "cell_type": "markdown",
   "id": "973aec83",
   "metadata": {},
   "source": [
    "### 9. What is the difference between False, True, and None for the bold variable?"
   ]
  },
  {
   "cell_type": "raw",
   "id": "385a3496",
   "metadata": {},
   "source": [
    "True : the attribute is always enabled, no matter what other styles are applied to the run\n",
    "False : the attribute is always disabled\n",
    "None : defaults to whatever the run’s style is set to"
   ]
  },
  {
   "cell_type": "markdown",
   "id": "d305620b",
   "metadata": {},
   "source": [
    "### 10. How do you create a Document object for a new Word document?"
   ]
  },
  {
   "cell_type": "code",
   "execution_count": 14,
   "id": "c6d0bf00",
   "metadata": {},
   "outputs": [],
   "source": [
    "import docx\n",
    "doc = docx.Document() # here doc is document object\n",
    "doc.add_paragraph('My name is Arpan Maity')\n",
    "doc.save('E:\\\\intro.docx')"
   ]
  },
  {
   "cell_type": "markdown",
   "id": "5b82b6c5",
   "metadata": {},
   "source": [
    "### 11. How do you add a paragraph with the text &#39;Hello, there!&#39; to a Document object stored in a variable named doc?"
   ]
  },
  {
   "cell_type": "code",
   "execution_count": 15,
   "id": "e24339d8",
   "metadata": {},
   "outputs": [],
   "source": [
    "import docx\n",
    "doc = docx.Document()\n",
    "doc.add_paragraph('Hello,there!')\n",
    "doc.save('E:\\\\doc.docx')"
   ]
  },
  {
   "cell_type": "markdown",
   "id": "b947e872",
   "metadata": {},
   "source": [
    "### 12. What integers represent the levels of headings available in Word documents?"
   ]
  },
  {
   "cell_type": "raw",
   "id": "8d1c7c08",
   "metadata": {},
   "source": [
    "Integers 1 to 4 are for various heading levels where 1 is main heading and 4 the lowest subheading."
   ]
  },
  {
   "cell_type": "code",
   "execution_count": 20,
   "id": "947c547f",
   "metadata": {},
   "outputs": [],
   "source": [
    "import docx\n",
    "doc = docx.Document()\n",
    "doc.add_heading(\"Heading\", 1)\n",
    "doc.add_heading(\"Heading\", 2)\n",
    "doc.add_heading(\"Heading\", 3)\n",
    "doc.add_heading(\"Heading\", 4)\n",
    "doc.add_paragraph('Hello,there!')\n",
    "doc.save('E:\\\\doc.docx')"
   ]
  }
 ],
 "metadata": {
  "kernelspec": {
   "display_name": "Python 3 (ipykernel)",
   "language": "python",
   "name": "python3"
  },
  "language_info": {
   "codemirror_mode": {
    "name": "ipython",
    "version": 3
   },
   "file_extension": ".py",
   "mimetype": "text/x-python",
   "name": "python",
   "nbconvert_exporter": "python",
   "pygments_lexer": "ipython3",
   "version": "3.9.7"
  }
 },
 "nbformat": 4,
 "nbformat_minor": 5
}
