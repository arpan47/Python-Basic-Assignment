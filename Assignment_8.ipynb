{
 "cells": [
  {
   "cell_type": "markdown",
   "id": "109aa099",
   "metadata": {},
   "source": [
    "<h1 align='center' style=\"background-color:RGB(255, 228, 145);\">Python Basic Assignment 8</h1>"
   ]
  },
  {
   "cell_type": "markdown",
   "id": "0ebe1730",
   "metadata": {},
   "source": [
    "### 1. Is the Python Standard Library included with PyInputPlus?"
   ]
  },
  {
   "cell_type": "raw",
   "id": "851248f7",
   "metadata": {},
   "source": [
    "It is not a part of python standard library"
   ]
  },
  {
   "cell_type": "markdown",
   "id": "3eedc6f0",
   "metadata": {},
   "source": [
    "### 2. Why is PyInputPlus commonly imported with import pyinputplus as pypi?\n"
   ]
  },
  {
   "cell_type": "raw",
   "id": "e6a22106",
   "metadata": {},
   "source": [
    "Import the module with import pyinputplus as pyip so that we can enter a shorter name when calling the module's functions."
   ]
  },
  {
   "cell_type": "code",
   "execution_count": 5,
   "id": "d08f30fa",
   "metadata": {},
   "outputs": [
    {
     "name": "stdout",
     "output_type": "stream",
     "text": [
      "Collecting pyinputplus\n",
      "  Downloading PyInputPlus-0.2.12.tar.gz (20 kB)\n",
      "  Installing build dependencies: started\n",
      "  Installing build dependencies: finished with status 'done'\n",
      "  Getting requirements to build wheel: started\n",
      "  Getting requirements to build wheel: finished with status 'done'\n",
      "    Preparing wheel metadata: started\n",
      "    Preparing wheel metadata: finished with status 'done'\n",
      "Collecting pysimplevalidate>=0.2.7\n",
      "  Downloading PySimpleValidate-0.2.12.tar.gz (22 kB)\n",
      "  Installing build dependencies: started\n",
      "  Installing build dependencies: finished with status 'done'\n",
      "  Getting requirements to build wheel: started\n",
      "  Getting requirements to build wheel: finished with status 'done'\n",
      "    Preparing wheel metadata: started\n",
      "    Preparing wheel metadata: finished with status 'done'\n",
      "Collecting stdiomask>=0.0.3\n",
      "  Downloading stdiomask-0.0.6.tar.gz (3.6 kB)\n",
      "  Installing build dependencies: started\n",
      "  Installing build dependencies: finished with status 'done'\n",
      "  Getting requirements to build wheel: started\n",
      "  Getting requirements to build wheel: finished with status 'done'\n",
      "    Preparing wheel metadata: started\n",
      "    Preparing wheel metadata: finished with status 'done'\n",
      "Building wheels for collected packages: pyinputplus, pysimplevalidate, stdiomask\n",
      "  Building wheel for pyinputplus (PEP 517): started\n",
      "  Building wheel for pyinputplus (PEP 517): finished with status 'done'\n",
      "  Created wheel for pyinputplus: filename=PyInputPlus-0.2.12-py3-none-any.whl size=11315 sha256=fc457e64876cbbfb5fd86cb585d10891ff6c6d466402350beda554a551ed49ec\n",
      "  Stored in directory: c:\\users\\arpan\\appdata\\local\\pip\\cache\\wheels\\b4\\6e\\2f\\8a852732646cabec36c3fe8fc060ec5bea1c1be711432c47f7\n",
      "  Building wheel for pysimplevalidate (PEP 517): started\n",
      "  Building wheel for pysimplevalidate (PEP 517): finished with status 'done'\n",
      "  Created wheel for pysimplevalidate: filename=PySimpleValidate-0.2.12-py3-none-any.whl size=16193 sha256=ed6550a07137dc8a0799b99fc14bef340ec53f64ca788e8d1c2f38232f7271c6\n",
      "  Stored in directory: c:\\users\\arpan\\appdata\\local\\pip\\cache\\wheels\\b1\\44\\4a\\043a4f4c4512c7cdfb0c2b8408b18b0de5fd45cac57f5dfa02\n",
      "  Building wheel for stdiomask (PEP 517): started\n",
      "  Building wheel for stdiomask (PEP 517): finished with status 'done'\n",
      "  Created wheel for stdiomask: filename=stdiomask-0.0.6-py3-none-any.whl size=3321 sha256=72e92e94ac4b5aceb915624cb5ff3ccd190ea0b1326caf42fc2565f4a00166e4\n",
      "  Stored in directory: c:\\users\\arpan\\appdata\\local\\pip\\cache\\wheels\\1d\\aa\\47\\f41f117d22c5de82e95d9342f44da578c80610739a2d5ebec4\n",
      "Successfully built pyinputplus pysimplevalidate stdiomask\n",
      "Installing collected packages: stdiomask, pysimplevalidate, pyinputplus\n",
      "Successfully installed pyinputplus-0.2.12 pysimplevalidate-0.2.12 stdiomask-0.0.6\n"
     ]
    }
   ],
   "source": [
    "#!pip install pyinputplus\n",
    "import pyinputplus as pypi"
   ]
  },
  {
   "cell_type": "markdown",
   "id": "2989e8ed",
   "metadata": {},
   "source": [
    "### 3. How do you distinguish between inputInt() and inputFloat()?\n"
   ]
  },
  {
   "cell_type": "raw",
   "id": "70bb2ae5",
   "metadata": {},
   "source": [
    "inputInt() is for integers i.e number without decimal,\n",
    "Prompts the user to enter an integer value. Returns the integer as an int value.\n",
    "\n",
    "inputFloat() belongs to float class i.e with decimal."
   ]
  },
  {
   "cell_type": "code",
   "execution_count": 8,
   "id": "6be63040",
   "metadata": {},
   "outputs": [
    {
     "name": "stdout",
     "output_type": "stream",
     "text": [
      "23\n",
      "1123.4\n",
      "Value :  23 1123.4\n"
     ]
    }
   ],
   "source": [
    "import pyinputplus as pypi\n",
    "a = pypi.inputInt()\n",
    "b = pypi.inputFloat()\n",
    "print(\"Value : \", a , b)"
   ]
  },
  {
   "cell_type": "markdown",
   "id": "34780cd4",
   "metadata": {},
   "source": [
    "### 4. Using PyInputPlus, how do you ensure that the user enters a whole number between 0 and 99?\n"
   ]
  },
  {
   "cell_type": "code",
   "execution_count": 40,
   "id": "f41ec1b1",
   "metadata": {},
   "outputs": [
    {
     "name": "stdout",
     "output_type": "stream",
     "text": [
      "---->23\n"
     ]
    },
    {
     "data": {
      "text/plain": [
       "23"
      ]
     },
     "execution_count": 40,
     "metadata": {},
     "output_type": "execute_result"
    }
   ],
   "source": [
    "import pyinputplus as py\n",
    "#py.inputNum('1--->',greaterThan=0, max=99)                # 0<i<=99\n",
    "#py.inputNum('2--->',min=0, lessThan=99)                   # 0<=i<99\n",
    "#py.inputNum('3--->',greaterThan=0, lessThan=99)           # 0<i<99\n",
    "py.inputNum('---->', min=0,max=99)                         # 0<=i<=99"
   ]
  },
  {
   "cell_type": "markdown",
   "id": "72ff183a",
   "metadata": {},
   "source": [
    "### 5. What is transferred to the keyword arguments allowRegexes and blockRegexes?\n"
   ]
  },
  {
   "cell_type": "raw",
   "id": "0c149f40",
   "metadata": {},
   "source": [
    "We can use allowRegexes and blockRegexes keyword arguments to take list of regular expression strings to determine\n",
    "what the pyinputplus function will reject or accept valid input."
   ]
  },
  {
   "cell_type": "code",
   "execution_count": 109,
   "id": "7949d79b",
   "metadata": {},
   "outputs": [
    {
     "name": "stdout",
     "output_type": "stream",
     "text": [
      "Provide your phone number as XXX-XXX-XXXX : \n",
      "jgk\n",
      "This response is invalid.\n",
      "667-987-8698\n",
      "\n",
      "\n",
      "Your Phone Number is : 667-987-8698\n"
     ]
    }
   ],
   "source": [
    "import pyinputplus as pyip\n",
    "try:\n",
    "    print(\"Provide your phone number as XXX-XXX-XXXX : \")\n",
    "    a = pyip.inputStr(allowRegexes=[r'^\\d\\d\\d-\\d\\d\\d-\\d\\d\\d\\d$'],blockRegexes=[r'\\d+-\\d+-\\d+', r'\\w+'], limit = 3, timeout = 7)\n",
    "    # 123-456-7890\n",
    "    print('\\n\\nYour Phone Number is :',a)\n",
    "except Exception as e:\n",
    "    print('\\n\\nReached your limit or Time out, Try Again...')\n",
    "    print(e.__class__)"
   ]
  },
  {
   "cell_type": "markdown",
   "id": "f82c447a",
   "metadata": {},
   "source": [
    "### 6. If a blank input is entered three times, what does inputStr(limit=3) do?\n"
   ]
  },
  {
   "cell_type": "raw",
   "id": "e4e8d6a9",
   "metadata": {},
   "source": [
    "Program will throw exception pyinputplus.RetryLimitException."
   ]
  },
  {
   "cell_type": "code",
   "execution_count": 104,
   "id": "6b5cb331",
   "metadata": {},
   "outputs": [
    {
     "name": "stdout",
     "output_type": "stream",
     "text": [
      "\n",
      "Blank values are not allowed.\n",
      "\n",
      "Blank values are not allowed.\n",
      "\n",
      "Blank values are not allowed.\n",
      "<class 'pyinputplus.RetryLimitException'>\n"
     ]
    }
   ],
   "source": [
    "import pyinputplus as p\n",
    "try:\n",
    "    p.inputStr(limit=3)\n",
    "except Exception as e:\n",
    "    print(e.__class__)"
   ]
  },
  {
   "cell_type": "markdown",
   "id": "89d76f04",
   "metadata": {},
   "source": [
    "### 7. If blank input is entered three times, what does inputStr(limit=3, default=&#39;hello&#39;) do?"
   ]
  },
  {
   "cell_type": "raw",
   "id": "3c3500d6",
   "metadata": {},
   "source": [
    "Instead of raising pyinputplus.RetryLimitException, the function returns the string 'hello'."
   ]
  },
  {
   "cell_type": "code",
   "execution_count": 114,
   "id": "1a2a13c3",
   "metadata": {},
   "outputs": [
    {
     "name": "stdout",
     "output_type": "stream",
     "text": [
      "\n",
      "Blank values are not allowed.\n",
      "\n",
      "Blank values are not allowed.\n",
      "\n",
      "Blank values are not allowed.\n"
     ]
    },
    {
     "data": {
      "text/plain": [
       "'hello'"
      ]
     },
     "execution_count": 114,
     "metadata": {},
     "output_type": "execute_result"
    }
   ],
   "source": [
    "import pyinputplus as p\n",
    "p.inputStr(limit=3, default='hello')"
   ]
  },
  {
   "cell_type": "code",
   "execution_count": null,
   "id": "77e38b59",
   "metadata": {},
   "outputs": [],
   "source": []
  }
 ],
 "metadata": {
  "kernelspec": {
   "display_name": "Python 3 (ipykernel)",
   "language": "python",
   "name": "python3"
  },
  "language_info": {
   "codemirror_mode": {
    "name": "ipython",
    "version": 3
   },
   "file_extension": ".py",
   "mimetype": "text/x-python",
   "name": "python",
   "nbconvert_exporter": "python",
   "pygments_lexer": "ipython3",
   "version": "3.9.7"
  }
 },
 "nbformat": 4,
 "nbformat_minor": 5
}
