{
 "cells": [
  {
   "cell_type": "markdown",
   "id": "95c86436",
   "metadata": {},
   "source": [
    "### 1. What is the result of the code, and why ?\n",
    "###### >>> def func(a, b=6, c=8):\n",
    "###### print(a, b, c)\n",
    "###### >>> func(1, 2)"
   ]
  },
  {
   "cell_type": "raw",
   "id": "943e36a8",
   "metadata": {},
   "source": [
    "The result of the above code is 1 2 8. its because the function uses the default value of c ie 8 which is provided at the time of declaration."
   ]
  },
  {
   "cell_type": "code",
   "execution_count": 4,
   "id": "25277357",
   "metadata": {},
   "outputs": [
    {
     "name": "stdout",
     "output_type": "stream",
     "text": [
      "1 2 8\n"
     ]
    }
   ],
   "source": [
    "def func(a,b=6,c=8):\n",
    "    print(a,b,c)\n",
    "func(1,2)"
   ]
  },
  {
   "cell_type": "markdown",
   "id": "1976f729",
   "metadata": {},
   "source": [
    "### 2. What is the result of this code, and why ?\n",
    "###### >>> def func(a, b, c=5):\n",
    "###### print(a, b, c)\n",
    "###### >>> func(1, c=3, b=2) "
   ]
  },
  {
   "cell_type": "raw",
   "id": "2451c5e6",
   "metadata": {},
   "source": [
    "The result of the above code is 1 2 3  because the function will use default values only when a value for a argument is not provided and if argument name is mentioned while doing a function call, the order of arguments is also ignored by the python interpreter."
   ]
  },
  {
   "cell_type": "code",
   "execution_count": 2,
   "id": "dfb849ce",
   "metadata": {},
   "outputs": [
    {
     "name": "stdout",
     "output_type": "stream",
     "text": [
      "1 2 3\n"
     ]
    }
   ],
   "source": [
    "def func(a,b,c=5):\n",
    "    print(a,b,c)\n",
    "func(1,c=3,b=2)"
   ]
  },
  {
   "cell_type": "markdown",
   "id": "409c9582",
   "metadata": {},
   "source": [
    "### 3. How about this code: what is its result, and why ?\n",
    "###### >>> def func(a, *pargs):\n",
    "###### print(a, pargs)\n",
    "###### >>> func(1, 2, 3)"
   ]
  },
  {
   "cell_type": "raw",
   "id": "c723c3a8",
   "metadata": {},
   "source": [
    "The result of the code is 1 (2,3). *pargs stands for variable length arguments. this format is used when we are not sure about the no of arguments to be passed to a function. All the values under this argument will be stored in a tuple."
   ]
  },
  {
   "cell_type": "code",
   "execution_count": 3,
   "id": "82ddc925",
   "metadata": {},
   "outputs": [
    {
     "name": "stdout",
     "output_type": "stream",
     "text": [
      "1 (2, 3)\n"
     ]
    }
   ],
   "source": [
    "def func(a, *pargs):\n",
    "    print(a,pargs)\n",
    "func(1,2,3)"
   ]
  },
  {
   "cell_type": "markdown",
   "id": "f3294c95",
   "metadata": {},
   "source": [
    "### 4. What does this code print, and why ?\n",
    "###### >>> def func(a, **kargs):\n",
    "###### print(a, kargs)\n",
    "###### >>> func(a=1, c=3, b=2)"
   ]
  },
  {
   "cell_type": "raw",
   "id": "d6b615ab",
   "metadata": {},
   "source": [
    "**kargs is used when we want to pass key-value pairs as input to a function. All these key value pairs will be stored as dictionary."
   ]
  },
  {
   "cell_type": "code",
   "execution_count": 4,
   "id": "53f34da6",
   "metadata": {},
   "outputs": [
    {
     "name": "stdout",
     "output_type": "stream",
     "text": [
      "1 {'c': 3, 'b': 2}\n"
     ]
    }
   ],
   "source": [
    "def func(a,**kargs):\n",
    "    print(a,kargs)\n",
    "func(a=1,c=3,b=2)"
   ]
  },
  {
   "cell_type": "markdown",
   "id": "1de9bdd0",
   "metadata": {},
   "source": [
    "### 5. What gets printed by this, and explain ?\n",
    "###### >>> def func(a, b, c=8, d=5): print(a, b, c, d)\n",
    "###### >>> func(1, *(5, 6))"
   ]
  },
  {
   "cell_type": "raw",
   "id": "7855fa23",
   "metadata": {},
   "source": [
    "The output of the above is 1 5 6 5. This reason for this function not throwing an error is because, this function expects 4 arguments. the value for a is provided explicitly whereas for arguments b and c, the function will expand the *(5,6) and consider the value of b as 5 and value of c as 6. since the default value of d is provided in function declaration d value will be 5. However it is recommended to use the feature of positional arguments at the end."
   ]
  },
  {
   "cell_type": "code",
   "execution_count": 7,
   "id": "ab5de589",
   "metadata": {},
   "outputs": [
    {
     "name": "stdout",
     "output_type": "stream",
     "text": [
      "1 5 6 5\n"
     ]
    }
   ],
   "source": [
    "def func(a,b,c=8,d=5): print(a,b,c,d)\n",
    "func(1,*(5,6))"
   ]
  },
  {
   "cell_type": "markdown",
   "id": "bfbcaa01",
   "metadata": {},
   "source": [
    "### 6. what is the result of this, and explain ?\n",
    "###### >>> def func(a, b, c): a = 2; b[0] = 'x'; c['a'] = 'y'\n",
    "###### >>> l=1; m=[1]; n={'a':0}\n",
    "###### >>> func(l, m, n)\n",
    "###### >>> l, m, n"
   ]
  },
  {
   "cell_type": "raw",
   "id": "c23d2b2a",
   "metadata": {},
   "source": [
    "The list and dict are the mutable object. Here the list m and parameter b point \n",
    "to the same list in the memory location where as dict n and c point to the same memory location.\n",
    "\n",
    "a is integer, b is list, c is dict.\n",
    "\n",
    "And now,\n",
    "For l = 1 it was not modifying the value of l as l is an integer immutable object.\n",
    "For m=[1], m is a list mutable object, which is modified by b[0] = 'x'.\n",
    "For n={'a':0}, n is a dict mutable object, which is modified by the c['a'] = 'y'."
   ]
  },
  {
   "cell_type": "code",
   "execution_count": 89,
   "id": "3a23e9c9",
   "metadata": {},
   "outputs": [
    {
     "data": {
      "text/plain": [
       "(1, ['x'], {'a': 'y'})"
      ]
     },
     "execution_count": 89,
     "metadata": {},
     "output_type": "execute_result"
    }
   ],
   "source": [
    "def func(a, b, c): a = 2; b[0] = 'x'; c['a'] = 'y'\n",
    "l=1; m=[1]; n={'a':0}\n",
    "func(l, m, n)\n",
    "l,m,n"
   ]
  },
  {
   "cell_type": "code",
   "execution_count": null,
   "id": "08f1a694",
   "metadata": {},
   "outputs": [],
   "source": []
  }
 ],
 "metadata": {
  "kernelspec": {
   "display_name": "Python 3 (ipykernel)",
   "language": "python",
   "name": "python3"
  },
  "language_info": {
   "codemirror_mode": {
    "name": "ipython",
    "version": 3
   },
   "file_extension": ".py",
   "mimetype": "text/x-python",
   "name": "python",
   "nbconvert_exporter": "python",
   "pygments_lexer": "ipython3",
   "version": "3.9.7"
  }
 },
 "nbformat": 4,
 "nbformat_minor": 5
}
