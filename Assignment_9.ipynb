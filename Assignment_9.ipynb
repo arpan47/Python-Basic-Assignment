{
 "cells": [
  {
   "cell_type": "markdown",
   "id": "109aa099",
   "metadata": {},
   "source": [
    "<h1 align='center' style=\"background-color:RGB(255, 228, 145);\">Python Basic Assignment 9</h1>"
   ]
  },
  {
   "cell_type": "markdown",
   "id": "f594c2cd",
   "metadata": {},
   "source": [
    "### 1. To what does a relative path refer?"
   ]
  },
  {
   "cell_type": "raw",
   "id": "7b67d347",
   "metadata": {},
   "source": [
    "A relative path is a path that describes the location of a file or folder in relative to the current working directory. It can be best used to refer to websites that are located on the same domain, ideally on certain sections of websites in which the documents never change relationships to each other."
   ]
  },
  {
   "cell_type": "code",
   "execution_count": 25,
   "id": "3849d025",
   "metadata": {},
   "outputs": [
    {
     "name": "stdout",
     "output_type": "stream",
     "text": [
      "..\\..\\..\\..\\..\\Python Basic Assignment\n"
     ]
    }
   ],
   "source": [
    "import os\n",
    "path = \"\\\\Python Basic Assignment\"\n",
    "relative_path = os.path.relpath(path, start = os.curdir) #, start = os.curdir\n",
    "print(relative_path)"
   ]
  },
  {
   "cell_type": "markdown",
   "id": "9f0d51f7",
   "metadata": {},
   "source": [
    "### 2. What does an absolute path start with your operating system?"
   ]
  },
  {
   "cell_type": "raw",
   "id": "e13bbadb",
   "metadata": {},
   "source": [
    "absolute path = Current directory + relative path\n",
    "\n",
    "An absolute path is a path that describes the location of a file or folder regardless of the current working directory; in fact, it is relative to the root directory. It contains the complete location of a file or directory, hence the name. It is also referred to as absolute pathname or full path and it always starts at the same place, which is the root directory."
   ]
  },
  {
   "cell_type": "code",
   "execution_count": 26,
   "id": "31ccf5cc",
   "metadata": {},
   "outputs": [
    {
     "data": {
      "text/plain": [
       "'C:\\\\Users\\\\arpan\\\\Documents\\\\jupyter\\\\Python Basic Assignment'"
      ]
     },
     "execution_count": 26,
     "metadata": {},
     "output_type": "execute_result"
    }
   ],
   "source": [
    "import os\n",
    "os.path.abspath(os.curdir)"
   ]
  },
  {
   "cell_type": "markdown",
   "id": "c964a1fa",
   "metadata": {},
   "source": [
    "### 3. What do the functions os.getcwd() and os.chdir() do?"
   ]
  },
  {
   "cell_type": "raw",
   "id": "f2d9da4a",
   "metadata": {},
   "source": [
    "os.chdir() method helps to change directory\n",
    "os.getcwd() method helps to know about current working directory"
   ]
  },
  {
   "cell_type": "code",
   "execution_count": 27,
   "id": "01e1a714",
   "metadata": {},
   "outputs": [
    {
     "name": "stdout",
     "output_type": "stream",
     "text": [
      "C:\\Users\\arpan\\Documents\\jupyter\\Python Basic Assignment\n",
      "C:\\Users\n"
     ]
    }
   ],
   "source": [
    "import os\n",
    "print(os.getcwd())\n",
    "os.chdir(r\"C:\\Users\")\n",
    "print(os.getcwd())"
   ]
  },
  {
   "cell_type": "code",
   "execution_count": 28,
   "id": "0061778d",
   "metadata": {},
   "outputs": [
    {
     "name": "stdout",
     "output_type": "stream",
     "text": [
      "C:\\Users\\arpan\\Documents\\jupyter\\Python Basic Assignment\n"
     ]
    }
   ],
   "source": [
    "cd C:\\Users\\arpan\\Documents\\jupyter\\Python Basic Assignment"
   ]
  },
  {
   "cell_type": "markdown",
   "id": "1b59e9df",
   "metadata": {},
   "source": [
    "### 4. What are the . and .. folders?"
   ]
  },
  {
   "cell_type": "raw",
   "id": "8fb64afd",
   "metadata": {},
   "source": [
    ". refer to current directory .. refer to parent directory"
   ]
  },
  {
   "cell_type": "markdown",
   "id": "d19ee4ab",
   "metadata": {},
   "source": [
    "### 5. In C:\\bacon\\eggs\\spam.txt, which part is the dir name, and which part is the base name?"
   ]
  },
  {
   "cell_type": "raw",
   "id": "c6d8ba2a",
   "metadata": {},
   "source": [
    "'C:\\bacon\\eggs' --> dir name and 'spam.txt' --> base name"
   ]
  },
  {
   "cell_type": "markdown",
   "id": "ebb9fb9a",
   "metadata": {},
   "source": [
    "### 6. What are the three “mode” arguments that can be passed to the open() function?"
   ]
  },
  {
   "cell_type": "raw",
   "id": "203a7a0d",
   "metadata": {},
   "source": [
    "Three mode arguments are:\n",
    "1. 'r' --> Opens the file in read-only mode.\n",
    "2. 'w' --> Opens in write-only mode.\n",
    "3. 'a' --> Opens a file for appending new information to it."
   ]
  },
  {
   "cell_type": "markdown",
   "id": "2623ec75",
   "metadata": {},
   "source": [
    "### 7. What happens if an existing file is opened in write mode?"
   ]
  },
  {
   "cell_type": "raw",
   "id": "2df9861b",
   "metadata": {},
   "source": [
    "When an existing file is opened in write mode previous content is erased and file is treated as new empty file."
   ]
  },
  {
   "cell_type": "code",
   "execution_count": 22,
   "id": "f757f0c3",
   "metadata": {},
   "outputs": [
    {
     "name": "stdout",
     "output_type": "stream",
     "text": [
      "Arpan Maity\n",
      "Test\n"
     ]
    }
   ],
   "source": [
    "fil_p = \"..\\\\test.txt\"\n",
    "k = open(fil_p,\"r\")\n",
    "print(k.read())\n",
    "k.close()\n",
    "k1 = open(fil_p,\"w\")\n",
    "k1.write(\"Test\")\n",
    "k1.close()\n",
    "k = open(fil_p,\"r\")\n",
    "print(k.read())\n",
    "k.close()"
   ]
  },
  {
   "cell_type": "markdown",
   "id": "3b77e3aa",
   "metadata": {},
   "source": [
    "### 8. How do you tell the difference between read() and readlines()?"
   ]
  },
  {
   "cell_type": "raw",
   "id": "8a825e54",
   "metadata": {},
   "source": [
    "readlines() returns the contents of the entire file as a list of strings, where each item in the list represents one line of the file. It is also possible to read the entire file into a single string with read()."
   ]
  },
  {
   "cell_type": "code",
   "execution_count": 38,
   "id": "879667a1",
   "metadata": {
    "scrolled": true
   },
   "outputs": [
    {
     "name": "stdout",
     "output_type": "stream",
     "text": [
      "Test1\n",
      "Test2\n",
      "Test3\n",
      "Test4\n",
      "Test5\n",
      "\n",
      "\n",
      "['Test1\\n', 'Test2\\n', 'Test3\\n', 'Test4\\n', 'Test5']\n"
     ]
    }
   ],
   "source": [
    "fil_p = \"..\\\\test.txt\"\n",
    "k = open(fil_p,\"r\")\n",
    "print(k.read())\n",
    "print('\\n')\n",
    "k.seek(0)\n",
    "print(k.readlines())\n",
    "k.close()"
   ]
  },
  {
   "cell_type": "markdown",
   "id": "bab31fc3",
   "metadata": {},
   "source": [
    "### 9. What data structure does a shelf value resemble?"
   ]
  },
  {
   "cell_type": "raw",
   "id": "29ecf5c1",
   "metadata": {},
   "source": [
    "A “shelf” is a persistent, dictionary-like object."
   ]
  }
 ],
 "metadata": {
  "kernelspec": {
   "display_name": "Python 3 (ipykernel)",
   "language": "python",
   "name": "python3"
  },
  "language_info": {
   "codemirror_mode": {
    "name": "ipython",
    "version": 3
   },
   "file_extension": ".py",
   "mimetype": "text/x-python",
   "name": "python",
   "nbconvert_exporter": "python",
   "pygments_lexer": "ipython3",
   "version": "3.9.7"
  }
 },
 "nbformat": 4,
 "nbformat_minor": 5
}
