{
 "cells": [
  {
   "cell_type": "raw",
   "id": "1c264646",
   "metadata": {},
   "source": [
    "1. Why are functions advantageous to have in your programs?"
   ]
  },
  {
   "cell_type": "raw",
   "id": "b00673bb",
   "metadata": {},
   "source": [
    "Functions reduce the need for duplicate code. This makes programs shorter, easier to read, and easier to update. A function call is what moves the program execution into the function, and the function call evaluates to the function's return value."
   ]
  },
  {
   "cell_type": "raw",
   "id": "1a3187e8",
   "metadata": {},
   "source": [
    "2. When does the code in a function run: when it's specified or when it's called?"
   ]
  },
  {
   "cell_type": "raw",
   "id": "fcc81e14",
   "metadata": {},
   "source": [
    "The code in a function executes when the function is called, not when the function is defined."
   ]
  },
  {
   "cell_type": "raw",
   "id": "641095ee",
   "metadata": {},
   "source": [
    "3. What statement creates a function?"
   ]
  },
  {
   "cell_type": "raw",
   "id": "0f498e1a",
   "metadata": {},
   "source": [
    "A function is created with the def keyword. "
   ]
  },
  {
   "cell_type": "code",
   "execution_count": 1,
   "id": "24202ec7",
   "metadata": {},
   "outputs": [],
   "source": [
    "def function_name(arguments):\n",
    "    return arguments"
   ]
  },
  {
   "cell_type": "raw",
   "id": "165637b5",
   "metadata": {},
   "source": [
    "4. What is the difference between a function and a function call?"
   ]
  },
  {
   "cell_type": "raw",
   "id": "92b537a5",
   "metadata": {},
   "source": [
    "A function consists of the def statement and the code in its def clause.\n",
    "\n",
    "A function call is what moves the program execution into the function, and the function call evaluates to the function's return value."
   ]
  },
  {
   "cell_type": "raw",
   "id": "7a7da8a8",
   "metadata": {},
   "source": [
    "5. How many global scopes are there in a Python program? How many local scopes?"
   ]
  },
  {
   "cell_type": "raw",
   "id": "3c0b405e",
   "metadata": {},
   "source": [
    "There's only one global Python scope per program execution. From the moment we start a Python program, we’re in the global Python scope. Internally, Python turns our program’s main script into a module called __main__ to hold the main program’s execution. The namespace of this module is the main global scope of your program.\n",
    "\n",
    "If we operate with the same variable name inside and outside of a function, Python will treat them as two separate variables, one available in the global scope (outside the function) and one available in the local scope (inside the function):"
   ]
  },
  {
   "cell_type": "raw",
   "id": "1a210480",
   "metadata": {},
   "source": [
    "6. What happens to variables in a local scope when the function call returns?"
   ]
  },
  {
   "cell_type": "raw",
   "id": "6af2331d",
   "metadata": {},
   "source": [
    "A local variable retains its value until the next time the function is called\n",
    "A local variable becomes undefined after the function call completes.\n",
    "The local variable can be used outside the function any time after the function call completes."
   ]
  },
  {
   "cell_type": "raw",
   "id": "24bbc44d",
   "metadata": {},
   "source": [
    "7. What is the concept of a return value? Is it possible to have a return value in an expression?"
   ]
  },
  {
   "cell_type": "markdown",
   "id": "535e0af0",
   "metadata": {},
   "source": [
    "A return statement is used to end the execution of the function call and “returns” the result (value of the expression following the return keyword) to the caller. The statements after the return statements are not executed.\n",
    "\n",
    "Yes, it is possible to have return value in an expression."
   ]
  },
  {
   "cell_type": "raw",
   "id": "f8ce94bc",
   "metadata": {},
   "source": [
    "8. If a function does not have a return statement, what is the return value of a call to that function?"
   ]
  },
  {
   "cell_type": "raw",
   "id": "175cc379",
   "metadata": {},
   "source": [
    "A return statement ends the execution of the function call and \"returns\" the result, i.e. the value of the expression following the return keyword, to the caller. If the return statement is without an expression, the special value None is returned."
   ]
  },
  {
   "cell_type": "raw",
   "id": "204f8960",
   "metadata": {},
   "source": [
    "9. How do you make a function variable refer to the global variable?"
   ]
  },
  {
   "cell_type": "raw",
   "id": "02e86ccb",
   "metadata": {},
   "source": [
    "Variables that are created outside of a function are known as global variables. Global variables can be used both inside of functions and outside.\n",
    "\n",
    "Global variable is a variable which is not connected to any particular function i.e it is free to be called in any function and also be reused. Therefore to refer a function variable to global variable we use global keyword to declare which variable are global."
   ]
  },
  {
   "cell_type": "code",
   "execution_count": 14,
   "id": "5b37971c",
   "metadata": {},
   "outputs": [
    {
     "name": "stdout",
     "output_type": "stream",
     "text": [
      "0\n",
      "1\n",
      "1\n"
     ]
    }
   ],
   "source": [
    "globvar = 0\n",
    "\n",
    "print(globvar)\n",
    "\n",
    "def set_globvar_to_one():\n",
    "    global globvar    # Needed to modify global copy of globvar\n",
    "    globvar = 1\n",
    "\n",
    "def print_globvar():\n",
    "    print(globvar)     # No need for global declaration to read value of globvar\n",
    "\n",
    "set_globvar_to_one()\n",
    "print_globvar()\n",
    "print(globvar)"
   ]
  },
  {
   "cell_type": "raw",
   "id": "8146f6ec",
   "metadata": {},
   "source": [
    "10. What is the data type of None?"
   ]
  },
  {
   "cell_type": "raw",
   "id": "2753ba30",
   "metadata": {},
   "source": [
    "None is used to define a null value. It is not the same as an empty string, False, or a zero. It is a data type of the class NoneType object. Assigning a value of None to a variable is one way to reset it to its original, empty state"
   ]
  },
  {
   "cell_type": "code",
   "execution_count": 2,
   "id": "47990d9e",
   "metadata": {},
   "outputs": [
    {
     "data": {
      "text/plain": [
       "NoneType"
      ]
     },
     "execution_count": 2,
     "metadata": {},
     "output_type": "execute_result"
    }
   ],
   "source": [
    "type(None) # it is null neither Zero nor any other value"
   ]
  },
  {
   "cell_type": "raw",
   "id": "a9412ec4",
   "metadata": {},
   "source": [
    "11. What does the sentence import areallyourpetsnamederic do?"
   ]
  },
  {
   "cell_type": "code",
   "execution_count": null,
   "id": "8d40a731",
   "metadata": {},
   "outputs": [],
   "source": [
    "This isn’t a real Python module. import statement imports a module areallyourpetsnamederic"
   ]
  },
  {
   "cell_type": "raw",
   "id": "664df7d9",
   "metadata": {},
   "source": [
    "12. If you had a bacon() feature in a spam module, what would you call it after importing spam?"
   ]
  },
  {
   "cell_type": "raw",
   "id": "e3ca4b05",
   "metadata": {},
   "source": [
    "spam.bacon()"
   ]
  },
  {
   "cell_type": "raw",
   "id": "1b40752c",
   "metadata": {},
   "source": [
    "13. What can you do to save a programme from crashing if it encounters an error?"
   ]
  },
  {
   "cell_type": "raw",
   "id": "9b7da2b8",
   "metadata": {},
   "source": [
    "I will use try and except for preventing crash.\n",
    "\n",
    "We should generally place the line of code that might cause an error in a try clause. If there is any problem with the program the code will try to execute the except block when an exception occurs, we can print the error."
   ]
  },
  {
   "cell_type": "code",
   "execution_count": 13,
   "id": "38a991a6",
   "metadata": {},
   "outputs": [
    {
     "name": "stdout",
     "output_type": "stream",
     "text": [
      "r\n",
      "r\n",
      "Traceback (most recent call last):\n",
      "  File \"C:\\Users\\arpan\\AppData\\Local\\Temp/ipykernel_13780/2256535832.py\", line 6, in <module>\n",
      "    print(int(i)+int(j))\n",
      "ValueError: invalid literal for int() with base 10: 'r'\n",
      "\n"
     ]
    }
   ],
   "source": [
    "# while trying to pass string\n",
    "import traceback\n",
    "i = input()\n",
    "j = input()\n",
    "try:\n",
    "    print(int(i)+int(j))\n",
    "except:\n",
    "    print(traceback.format_exc())"
   ]
  },
  {
   "cell_type": "raw",
   "id": "d8cd9c78",
   "metadata": {},
   "source": [
    "14. What is the purpose of the try clause? What is the purpose of the except clause?"
   ]
  },
  {
   "cell_type": "raw",
   "id": "4d327855",
   "metadata": {},
   "source": [
    "try and except statement is used to handle these errors within our code in Python.\n",
    "\n",
    "The try: block is used to check some code for errors i.e the code inside the try block will execute when there is no error in the program. The code inside the except: block will execute whenever the program encounters some error in the preceding try block. example like below:\n",
    "\n",
    "try:\n",
    "    # Some Code\n",
    "except:\n",
    "    # Executed if error in the\n",
    "    # try block\n"
   ]
  }
 ],
 "metadata": {
  "kernelspec": {
   "display_name": "Python 3 (ipykernel)",
   "language": "python",
   "name": "python3"
  },
  "language_info": {
   "codemirror_mode": {
    "name": "ipython",
    "version": 3
   },
   "file_extension": ".py",
   "mimetype": "text/x-python",
   "name": "python",
   "nbconvert_exporter": "python",
   "pygments_lexer": "ipython3",
   "version": "3.9.7"
  }
 },
 "nbformat": 4,
 "nbformat_minor": 5
}
